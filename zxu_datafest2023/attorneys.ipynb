{
 "cells": [
  {
   "cell_type": "code",
   "execution_count": 1,
   "id": "5713f136-21bb-434e-a2bc-fa67e603b121",
   "metadata": {},
   "outputs": [],
   "source": [
    "import pandas as pd\n",
    "import numpy as np\n",
    "attorneys = pd.read_csv(\"attorneys.csv\",index_col=0)"
   ]
  },
  {
   "cell_type": "code",
   "execution_count": 2,
   "id": "f768f701-b7e1-40fc-ba40-3bc2e32e7ec3",
   "metadata": {},
   "outputs": [
    {
     "data": {
      "text/html": [
       "<div>\n",
       "<style scoped>\n",
       "    .dataframe tbody tr th:only-of-type {\n",
       "        vertical-align: middle;\n",
       "    }\n",
       "\n",
       "    .dataframe tbody tr th {\n",
       "        vertical-align: top;\n",
       "    }\n",
       "\n",
       "    .dataframe thead th {\n",
       "        text-align: right;\n",
       "    }\n",
       "</style>\n",
       "<table border=\"1\" class=\"dataframe\">\n",
       "  <thead>\n",
       "    <tr style=\"text-align: right;\">\n",
       "      <th></th>\n",
       "      <th>StateAbbr</th>\n",
       "      <th>AttorneyUno</th>\n",
       "      <th>City</th>\n",
       "      <th>County</th>\n",
       "      <th>StateName</th>\n",
       "      <th>PostalCode</th>\n",
       "      <th>CreatedUtc</th>\n",
       "    </tr>\n",
       "    <tr>\n",
       "      <th>Id</th>\n",
       "      <th></th>\n",
       "      <th></th>\n",
       "      <th></th>\n",
       "      <th></th>\n",
       "      <th></th>\n",
       "      <th></th>\n",
       "      <th></th>\n",
       "    </tr>\n",
       "  </thead>\n",
       "  <tbody>\n",
       "    <tr>\n",
       "      <th>1</th>\n",
       "      <td>NH</td>\n",
       "      <td>7A2C12BE-9F37-4C9D-A6ED-41B916820CE0</td>\n",
       "      <td>Concord</td>\n",
       "      <td>Cheshire</td>\n",
       "      <td>New Hampshire</td>\n",
       "      <td>3301</td>\n",
       "      <td>2019-02-14 16:21:52</td>\n",
       "    </tr>\n",
       "    <tr>\n",
       "      <th>2</th>\n",
       "      <td>NH</td>\n",
       "      <td>29A49AA6-047E-4008-ABBD-3DE57156B526</td>\n",
       "      <td>Concord</td>\n",
       "      <td>Merrimack</td>\n",
       "      <td>New Hampshire</td>\n",
       "      <td>3229</td>\n",
       "      <td>2019-02-14 18:14:30</td>\n",
       "    </tr>\n",
       "    <tr>\n",
       "      <th>3</th>\n",
       "      <td>MS</td>\n",
       "      <td>9DF11B65-7F29-452C-A69E-54CD72E4A116</td>\n",
       "      <td>Jackson</td>\n",
       "      <td>Rankin</td>\n",
       "      <td>Mississippi</td>\n",
       "      <td>39203</td>\n",
       "      <td>2016-08-19 17:07:23</td>\n",
       "    </tr>\n",
       "    <tr>\n",
       "      <th>4</th>\n",
       "      <td>VA</td>\n",
       "      <td>693FD55F-5F58-405A-B389-5E78B3406497</td>\n",
       "      <td>Richmond</td>\n",
       "      <td>Richmond (city)</td>\n",
       "      <td>Virginia</td>\n",
       "      <td>23219</td>\n",
       "      <td>2016-08-19 18:22:53</td>\n",
       "    </tr>\n",
       "    <tr>\n",
       "      <th>5</th>\n",
       "      <td>CT</td>\n",
       "      <td>0AC2A866-19CD-4D1A-94B7-BF41A1430553</td>\n",
       "      <td>Wethersfield</td>\n",
       "      <td>Hartford</td>\n",
       "      <td>Connecticut</td>\n",
       "      <td>6410</td>\n",
       "      <td>2016-08-21 01:21:13</td>\n",
       "    </tr>\n",
       "    <tr>\n",
       "      <th>...</th>\n",
       "      <td>...</td>\n",
       "      <td>...</td>\n",
       "      <td>...</td>\n",
       "      <td>...</td>\n",
       "      <td>...</td>\n",
       "      <td>...</td>\n",
       "      <td>...</td>\n",
       "    </tr>\n",
       "    <tr>\n",
       "      <th>11540</th>\n",
       "      <td>VA</td>\n",
       "      <td>F2EC8DAD-D7B0-40B8-AFF2-F5705E2F59B0</td>\n",
       "      <td>Washington</td>\n",
       "      <td>Arlington</td>\n",
       "      <td>Virginia</td>\n",
       "      <td>20037</td>\n",
       "      <td>2021-11-03 15:16:31</td>\n",
       "    </tr>\n",
       "    <tr>\n",
       "      <th>11541</th>\n",
       "      <td>VA</td>\n",
       "      <td>386CD203-A6E0-4C8F-90D3-0EEEC2701CA3</td>\n",
       "      <td>Virginia Beach</td>\n",
       "      <td>Virginia Beach city</td>\n",
       "      <td>Virginia</td>\n",
       "      <td>23451</td>\n",
       "      <td>2021-11-04 13:56:07</td>\n",
       "    </tr>\n",
       "    <tr>\n",
       "      <th>11542</th>\n",
       "      <td>VA</td>\n",
       "      <td>1C366F1B-0990-4847-8B47-D56D426AD964</td>\n",
       "      <td>Virginia Beach</td>\n",
       "      <td>Virginia Beach city</td>\n",
       "      <td>Virginia</td>\n",
       "      <td>23451</td>\n",
       "      <td>2021-11-15 20:31:02</td>\n",
       "    </tr>\n",
       "    <tr>\n",
       "      <th>11543</th>\n",
       "      <td>VA</td>\n",
       "      <td>FE8B3662-7C55-416A-B123-C3F9A9F3CAFA</td>\n",
       "      <td>Richmond</td>\n",
       "      <td>Richmond city</td>\n",
       "      <td>Virginia</td>\n",
       "      <td>23225</td>\n",
       "      <td>2021-11-15 23:27:59</td>\n",
       "    </tr>\n",
       "    <tr>\n",
       "      <th>11544</th>\n",
       "      <td>VA</td>\n",
       "      <td>164F3C9B-FA80-427B-8172-8A4ECE7DAC24</td>\n",
       "      <td>Richmond</td>\n",
       "      <td>Richmond city</td>\n",
       "      <td>Virginia</td>\n",
       "      <td>23227</td>\n",
       "      <td>2021-11-17 19:26:07</td>\n",
       "    </tr>\n",
       "  </tbody>\n",
       "</table>\n",
       "<p>11544 rows × 7 columns</p>\n",
       "</div>"
      ],
      "text/plain": [
       "      StateAbbr                           AttorneyUno            City  \\\n",
       "Id                                                                      \n",
       "1            NH  7A2C12BE-9F37-4C9D-A6ED-41B916820CE0         Concord   \n",
       "2            NH  29A49AA6-047E-4008-ABBD-3DE57156B526         Concord   \n",
       "3            MS  9DF11B65-7F29-452C-A69E-54CD72E4A116         Jackson   \n",
       "4            VA  693FD55F-5F58-405A-B389-5E78B3406497        Richmond   \n",
       "5            CT  0AC2A866-19CD-4D1A-94B7-BF41A1430553    Wethersfield   \n",
       "...         ...                                   ...             ...   \n",
       "11540        VA  F2EC8DAD-D7B0-40B8-AFF2-F5705E2F59B0      Washington   \n",
       "11541        VA  386CD203-A6E0-4C8F-90D3-0EEEC2701CA3  Virginia Beach   \n",
       "11542        VA  1C366F1B-0990-4847-8B47-D56D426AD964  Virginia Beach   \n",
       "11543        VA  FE8B3662-7C55-416A-B123-C3F9A9F3CAFA        Richmond   \n",
       "11544        VA  164F3C9B-FA80-427B-8172-8A4ECE7DAC24        Richmond   \n",
       "\n",
       "                    County      StateName  PostalCode           CreatedUtc  \n",
       "Id                                                                          \n",
       "1                 Cheshire  New Hampshire        3301  2019-02-14 16:21:52  \n",
       "2                Merrimack  New Hampshire        3229  2019-02-14 18:14:30  \n",
       "3                   Rankin    Mississippi       39203  2016-08-19 17:07:23  \n",
       "4          Richmond (city)       Virginia       23219  2016-08-19 18:22:53  \n",
       "5                 Hartford    Connecticut        6410  2016-08-21 01:21:13  \n",
       "...                    ...            ...         ...                  ...  \n",
       "11540            Arlington       Virginia       20037  2021-11-03 15:16:31  \n",
       "11541  Virginia Beach city       Virginia       23451  2021-11-04 13:56:07  \n",
       "11542  Virginia Beach city       Virginia       23451  2021-11-15 20:31:02  \n",
       "11543        Richmond city       Virginia       23225  2021-11-15 23:27:59  \n",
       "11544        Richmond city       Virginia       23227  2021-11-17 19:26:07  \n",
       "\n",
       "[11544 rows x 7 columns]"
      ]
     },
     "execution_count": 2,
     "metadata": {},
     "output_type": "execute_result"
    }
   ],
   "source": [
    "attorneys "
   ]
  },
  {
   "cell_type": "code",
   "execution_count": 6,
   "id": "6324bdf9-79be-439c-b7a5-8097a88fe37e",
   "metadata": {},
   "outputs": [
    {
     "data": {
      "image/png": "[encoded data removed]",
      "text/plain": [
       "<Figure size 432x288 with 1 Axes>"
      ]
     },
     "metadata": {
      "needs_background": "light"
     },
     "output_type": "display_data"
    }
   ],
   "source": [
    "import matplotlib.pyplot as plt\n",
    "state_counts = attorneys.groupby('StateAbbr').size().reset_index(name='Frequency')\n",
    "state_counts.plot.bar(x='StateAbbr', y='Frequency', rot=90)\n",
    "plt.xlabel('StateAbbr')\n",
    "plt.ylabel('Frequency')\n",
    "plt.title('State Frequency Histogram')\n",
    "plt.show()"
   ]
  },
  {
   "cell_type": "code",
   "execution_count": 5,
   "id": "2e519a82-400a-47c6-934c-a77f65871436",
   "metadata": {},
   "outputs": [
    {
     "data": {
      "application/vnd.plotly.v1+json": {
       "config": {
        "plotlyServerURL": "https://plot.ly"
       },
       "data": [
        {
         "coloraxis": "coloraxis",
         "geo": "geo",
         "hovertemplate": "StateAbbr=%{location}<br>Frequency=%{z}<extra></extra>",
         "locationmode": "USA-states",
         "locations": [
          "AK",
          "AL",
          "AR",
          "AZ",
          "CA",
          "CT",
          "FL",
          "GA",
          "HI",
          "IA",
          "ID",
          "IL",
          "IN",
          "KS",
          "LA",
          "MA",
          "MD",
          "ME",
          "MI",
          "MO",
          "MS",
          "NC",
          "ND",
          "NE",
          "NH",
          "NJ",
          "NM",
          "NY",
          "OK",
          "PA",
          "SC",
          "SD",
          "TN",
          "TX",
          "US",
          "UT",
          "VA",
          "VI",
          "VT",
          "WI",
          "WV",
          "WY"
         ],
         "name": "",
         "type": "choropleth",
         "z": [
          110,
          138,
          192,
          104,
          245,
          103,
          1103,
          308,
          125,
          67,
          2,
          997,
          484,
          30,
          246,
          533,
          262,
          193,
          77,
          315,
          138,
          629,
          1,
          266,
          123,
          74,
          94,
          476,
          167,
          98,
          260,
          26,
          1036,
          1140,
          89,
          97,
          517,
          3,
          54,
          385,
          175,
          62
         ]
        }
       ],
       "layout": {
        "coloraxis": {
         "colorbar": {
          "title": {
           "text": "Frequency"
          }
         },
         "colorscale": [
          [
           0,
           "#0d0887"
          ],
          [
           0.1111111111111111,
           "#46039f"
          ],
          [
           0.2222222222222222,
           "#7201a8"
          ],
          [
           0.3333333333333333,
           "#9c179e"
          ],
          [
           0.4444444444444444,
           "#bd3786"
          ],
          [
           0.5555555555555556,
           "#d8576b"
          ],
          [
           0.6666666666666666,
           "#ed7953"
          ],
          [
           0.7777777777777778,
           "#fb9f3a"
          ],
          [
           0.8888888888888888,
           "#fdca26"
          ],
          [
           1,
           "#f0f921"
          ]
         ]
        },
        "geo": {
         "center": {},
         "domain": {
          "x": [
           0,
           1
          ],
          "y": [
           0,
           1
          ]
         },
         "scope": "usa"
        },
        "legend": {
         "tracegroupgap": 0
        },
        "margin": {
         "t": 60
        },
        "template": {
         "data": {
          "bar": [
           {
            "error_x": {
             "color": "#2a3f5f"
            },
            "error_y": {
             "color": "#2a3f5f"
            },
            "marker": {
             "line": {
              "color": "#E5ECF6",
              "width": 0.5
             },
             "pattern": {
              "fillmode": "overlay",
              "size": 10,
              "solidity": 0.2
             }
            },
            "type": "bar"
           }
          ],
          "barpolar": [
           {
            "marker": {
             "line": {
              "color": "#E5ECF6",
              "width": 0.5
             },
             "pattern": {
              "fillmode": "overlay",
              "size": 10,
              "solidity": 0.2
             }
            },
            "type": "barpolar"
           }
          ],
          "carpet": [
           {
            "aaxis": {
             "endlinecolor": "#2a3f5f",
             "gridcolor": "white",
             "linecolor": "white",
             "minorgridcolor": "white",
             "startlinecolor": "#2a3f5f"
            },
            "baxis": {
             "endlinecolor": "#2a3f5f",
             "gridcolor": "white",
             "linecolor": "white",
             "minorgridcolor": "white",
             "startlinecolor": "#2a3f5f"
            },
            "type": "carpet"
           }
          ],
          "choropleth": [
           {
            "colorbar": {
             "outlinewidth": 0,
             "ticks": ""
            },
            "type": "choropleth"
           }
          ],
          "contour": [
           {
            "colorbar": {
             "outlinewidth": 0,
             "ticks": ""
            },
            "colorscale": [
             [
              0,
              "#0d0887"
             ],
             [
              0.1111111111111111,
              "#46039f"
             ],
             [
              0.2222222222222222,
              "#7201a8"
             ],
             [
              0.3333333333333333,
              "#9c179e"
             ],
             [
              0.4444444444444444,
              "#bd3786"
             ],
             [
              0.5555555555555556,
              "#d8576b"
             ],
             [
              0.6666666666666666,
              "#ed7953"
             ],
             [
              0.7777777777777778,
              "#fb9f3a"
             ],
             [
              0.8888888888888888,
              "#fdca26"
             ],
             [
              1,
              "#f0f921"
             ]
            ],
            "type": "contour"
           }
          ],
          "contourcarpet": [
           {
            "colorbar": {
             "outlinewidth": 0,
             "ticks": ""
            },
            "type": "contourcarpet"
           }
          ],
          "heatmap": [
           {
            "colorbar": {
             "outlinewidth": 0,
             "ticks": ""
            },
            "colorscale": [
             [
              0,
              "#0d0887"
             ],
             [
              0.1111111111111111,
              "#46039f"
             ],
             [
              0.2222222222222222,
              "#7201a8"
             ],
             [
              0.3333333333333333,
              "#9c179e"
             ],
             [
              0.4444444444444444,
              "#bd3786"
             ],
             [
              0.5555555555555556,
              "#d8576b"
             ],
             [
              0.6666666666666666,
              "#ed7953"
             ],
             [
              0.7777777777777778,
              "#fb9f3a"
             ],
             [
              0.8888888888888888,
              "#fdca26"
             ],
             [
              1,
              "#f0f921"
             ]
            ],
            "type": "heatmap"
           }
          ],
          "heatmapgl": [
           {
            "colorbar": {
             "outlinewidth": 0,
             "ticks": ""
            },
            "colorscale": [
             [
              0,
              "#0d0887"
             ],
             [
              0.1111111111111111,
              "#46039f"
             ],
             [
              0.2222222222222222,
              "#7201a8"
             ],
             [
              0.3333333333333333,
              "#9c179e"
             ],
             [
              0.4444444444444444,
              "#bd3786"
             ],
             [
              0.5555555555555556,
              "#d8576b"
             ],
             [
              0.6666666666666666,
              "#ed7953"
             ],
             [
              0.7777777777777778,
              "#fb9f3a"
             ],
             [
              0.8888888888888888,
              "#fdca26"
             ],
             [
              1,
              "#f0f921"
             ]
            ],
            "type": "heatmapgl"
           }
          ],
          "histogram": [
           {
            "marker": {
             "pattern": {
              "fillmode": "overlay",
              "size": 10,
              "solidity": 0.2
             }
            },
            "type": "histogram"
           }
          ],
          "histogram2d": [
           {
            "colorbar": {
             "outlinewidth": 0,
             "ticks": ""
            },
            "colorscale": [
             [
              0,
              "#0d0887"
             ],
             [
              0.1111111111111111,
              "#46039f"
             ],
             [
              0.2222222222222222,
              "#7201a8"
             ],
             [
              0.3333333333333333,
              "#9c179e"
             ],
             [
              0.4444444444444444,
              "#bd3786"
             ],
             [
              0.5555555555555556,
              "#d8576b"
             ],
             [
              0.6666666666666666,
              "#ed7953"
             ],
             [
              0.7777777777777778,
              "#fb9f3a"
             ],
             [
              0.8888888888888888,
              "#fdca26"
             ],
             [
              1,
              "#f0f921"
             ]
            ],
            "type": "histogram2d"
           }
          ],
          "histogram2dcontour": [
           {
            "colorbar": {
             "outlinewidth": 0,
             "ticks": ""
            },
            "colorscale": [
             [
              0,
              "#0d0887"
             ],
             [
              0.1111111111111111,
              "#46039f"
             ],
             [
              0.2222222222222222,
              "#7201a8"
             ],
             [
              0.3333333333333333,
              "#9c179e"
             ],
             [
              0.4444444444444444,
              "#bd3786"
             ],
             [
              0.5555555555555556,
              "#d8576b"
             ],
             [
              0.6666666666666666,
              "#ed7953"
             ],
             [
              0.7777777777777778,
              "#fb9f3a"
             ],
             [
              0.8888888888888888,
              "#fdca26"
             ],
             [
              1,
              "#f0f921"
             ]
            ],
            "type": "histogram2dcontour"
           }
          ],
          "mesh3d": [
           {
            "colorbar": {
             "outlinewidth": 0,
             "ticks": ""
            },
            "type": "mesh3d"
           }
          ],
          "parcoords": [
           {
            "line": {
             "colorbar": {
              "outlinewidth": 0,
              "ticks": ""
             }
            },
            "type": "parcoords"
           }
          ],
          "pie": [
           {
            "automargin": true,
            "type": "pie"
           }
          ],
          "scatter": [
           {
            "marker": {
             "colorbar": {
              "outlinewidth": 0,
              "ticks": ""
             }
            },
            "type": "scatter"
           }
          ],
          "scatter3d": [
           {
            "line": {
             "colorbar": {
              "outlinewidth": 0,
              "ticks": ""
             }
            },
            "marker": {
             "colorbar": {
              "outlinewidth": 0,
              "ticks": ""
             }
            },
            "type": "scatter3d"
           }
          ],
          "scattercarpet": [
           {
            "marker": {
             "colorbar": {
              "outlinewidth": 0,
              "ticks": ""
             }
            },
            "type": "scattercarpet"
           }
          ],
          "scattergeo": [
           {
            "marker": {
             "colorbar": {
              "outlinewidth": 0,
              "ticks": ""
             }
            },
            "type": "scattergeo"
           }
          ],
          "scattergl": [
           {
            "marker": {
             "colorbar": {
              "outlinewidth": 0,
              "ticks": ""
             }
            },
            "type": "scattergl"
           }
          ],
          "scattermapbox": [
           {
            "marker": {
             "colorbar": {
              "outlinewidth": 0,
              "ticks": ""
             }
            },
            "type": "scattermapbox"
           }
          ],
          "scatterpolar": [
           {
            "marker": {
             "colorbar": {
              "outlinewidth": 0,
              "ticks": ""
             }
            },
            "type": "scatterpolar"
           }
          ],
          "scatterpolargl": [
           {
            "marker": {
             "colorbar": {
              "outlinewidth": 0,
              "ticks": ""
             }
            },
            "type": "scatterpolargl"
           }
          ],
          "scatterternary": [
           {
            "marker": {
             "colorbar": {
              "outlinewidth": 0,
              "ticks": ""
             }
            },
            "type": "scatterternary"
           }
          ],
          "surface": [
           {
            "colorbar": {
             "outlinewidth": 0,
             "ticks": ""
            },
            "colorscale": [
             [
              0,
              "#0d0887"
             ],
             [
              0.1111111111111111,
              "#46039f"
             ],
             [
              0.2222222222222222,
              "#7201a8"
             ],
             [
              0.3333333333333333,
              "#9c179e"
             ],
             [
              0.4444444444444444,
              "#bd3786"
             ],
             [
              0.5555555555555556,
              "#d8576b"
             ],
             [
              0.6666666666666666,
              "#ed7953"
             ],
             [
              0.7777777777777778,
              "#fb9f3a"
             ],
             [
              0.8888888888888888,
              "#fdca26"
             ],
             [
              1,
              "#f0f921"
             ]
            ],
            "type": "surface"
           }
          ],
          "table": [
           {
            "cells": {
             "fill": {
              "color": "#EBF0F8"
             },
             "line": {
              "color": "white"
             }
            },
            "header": {
             "fill": {
              "color": "#C8D4E3"
             },
             "line": {
              "color": "white"
             }
            },
            "type": "table"
           }
          ]
         },
         "layout": {
          "annotationdefaults": {
           "arrowcolor": "#2a3f5f",
           "arrowhead": 0,
           "arrowwidth": 1
          },
          "autotypenumbers": "strict",
          "coloraxis": {
           "colorbar": {
            "outlinewidth": 0,
            "ticks": ""
           }
          },
          "colorscale": {
           "diverging": [
            [
             0,
             "#8e0152"
            ],
            [
             0.1,
             "#c51b7d"
            ],
            [
             0.2,
             "#de77ae"
            ],
            [
             0.3,
             "#f1b6da"
            ],
            [
             0.4,
             "#fde0ef"
            ],
            [
             0.5,
             "#f7f7f7"
            ],
            [
             0.6,
             "#e6f5d0"
            ],
            [
             0.7,
             "#b8e186"
            ],
            [
             0.8,
             "#7fbc41"
            ],
            [
             0.9,
             "#4d9221"
            ],
            [
             1,
             "#276419"
            ]
           ],
           "sequential": [
            [
             0,
             "#0d0887"
            ],
            [
             0.1111111111111111,
             "#46039f"
            ],
            [
             0.2222222222222222,
             "#7201a8"
            ],
            [
             0.3333333333333333,
             "#9c179e"
            ],
            [
             0.4444444444444444,
             "#bd3786"
            ],
            [
             0.5555555555555556,
             "#d8576b"
            ],
            [
             0.6666666666666666,
             "#ed7953"
            ],
            [
             0.7777777777777778,
             "#fb9f3a"
            ],
            [
             0.8888888888888888,
             "#fdca26"
            ],
            [
             1,
             "#f0f921"
            ]
           ],
           "sequentialminus": [
            [
             0,
             "#0d0887"
            ],
            [
             0.1111111111111111,
             "#46039f"
            ],
            [
             0.2222222222222222,
             "#7201a8"
            ],
            [
             0.3333333333333333,
             "#9c179e"
            ],
            [
             0.4444444444444444,
             "#bd3786"
            ],
            [
             0.5555555555555556,
             "#d8576b"
            ],
            [
             0.6666666666666666,
             "#ed7953"
            ],
            [
             0.7777777777777778,
             "#fb9f3a"
            ],
            [
             0.8888888888888888,
             "#fdca26"
            ],
            [
             1,
             "#f0f921"
            ]
           ]
          },
          "colorway": [
           "#636efa",
           "#EF553B",
           "#00cc96",
           "#ab63fa",
           "#FFA15A",
           "#19d3f3",
           "#FF6692",
           "#B6E880",
           "#FF97FF",
           "#FECB52"
          ],
          "font": {
           "color": "#2a3f5f"
          },
          "geo": {
           "bgcolor": "white",
           "lakecolor": "white",
           "landcolor": "#E5ECF6",
           "showlakes": true,
           "showland": true,
           "subunitcolor": "white"
          },
          "hoverlabel": {
           "align": "left"
          },
          "hovermode": "closest",
          "mapbox": {
           "style": "light"
          },
          "paper_bgcolor": "white",
          "plot_bgcolor": "#E5ECF6",
          "polar": {
           "angularaxis": {
            "gridcolor": "white",
            "linecolor": "white",
            "ticks": ""
           },
           "bgcolor": "#E5ECF6",
           "radialaxis": {
            "gridcolor": "white",
            "linecolor": "white",
            "ticks": ""
           }
          },
          "scene": {
           "xaxis": {
            "backgroundcolor": "#E5ECF6",
            "gridcolor": "white",
            "gridwidth": 2,
            "linecolor": "white",
            "showbackground": true,
            "ticks": "",
            "zerolinecolor": "white"
           },
           "yaxis": {
            "backgroundcolor": "#E5ECF6",
            "gridcolor": "white",
            "gridwidth": 2,
            "linecolor": "white",
            "showbackground": true,
            "ticks": "",
            "zerolinecolor": "white"
           },
           "zaxis": {
            "backgroundcolor": "#E5ECF6",
            "gridcolor": "white",
            "gridwidth": 2,
            "linecolor": "white",
            "showbackground": true,
            "ticks": "",
            "zerolinecolor": "white"
           }
          },
          "shapedefaults": {
           "line": {
            "color": "#2a3f5f"
           }
          },
          "ternary": {
           "aaxis": {
            "gridcolor": "white",
            "linecolor": "white",
            "ticks": ""
           },
           "baxis": {
            "gridcolor": "white",
            "linecolor": "white",
            "ticks": ""
           },
           "bgcolor": "#E5ECF6",
           "caxis": {
            "gridcolor": "white",
            "linecolor": "white",
            "ticks": ""
           }
          },
          "title": {
           "x": 0.05
          },
          "xaxis": {
           "automargin": true,
           "gridcolor": "white",
           "linecolor": "white",
           "ticks": "",
           "title": {
            "standoff": 15
           },
           "zerolinecolor": "white",
           "zerolinewidth": 2
          },
          "yaxis": {
           "automargin": true,
           "gridcolor": "white",
           "linecolor": "white",
           "ticks": "",
           "title": {
            "standoff": 15
           },
           "zerolinecolor": "white",
           "zerolinewidth": 2
          }
         }
        }
       }
      }
     },
     "metadata": {},
     "output_type": "display_data"
    }
   ],
   "source": [
    "import pandas as pd \n",
    "import plotly.express as px\n",
    "\n",
    "#df=df[['period_begin','state','state_code','property_type','median_sale_price']]\n",
    "#df=df[ (df['property_type']=='Single Family Residential')] \n",
    "#df.rename({'median_sale_price':'Median Sales Price ($)'},axis=1, inplace=True)\n",
    "#df['period_begin'] = pd.to_datetime(df['period_begin']).dt.date.astype(str)\n",
    "#df=df.sort_values(\"period_begin\") # Make sure you sort the time horizon column in ascending order because this column is in random order in the raw dataset\n",
    "\n",
    "fig = px.choropleth(state_counts,\n",
    "                    locations='StateAbbr', \n",
    "                    locationmode=\"USA-states\", \n",
    "                    color='Frequency',\n",
    "                    #color_continuous_scale=\"Viridis_r\", \n",
    "                    scope=\"usa\")\n",
    "                    ##animation_frame='period_begin') #make sure 'period_begin' is string type and sorted in ascending order\n",
    "\n",
    "fig.show()"
   ]
  },
  {
   "cell_type": "code",
   "execution_count": 7,
   "id": "25a80ae1",
   "metadata": {},
   "outputs": [
    {
     "data": {
      "text/html": [
       "<div>\n",
       "<style scoped>\n",
       "    .dataframe tbody tr th:only-of-type {\n",
       "        vertical-align: middle;\n",
       "    }\n",
       "\n",
       "    .dataframe tbody tr th {\n",
       "        vertical-align: top;\n",
       "    }\n",
       "\n",
       "    .dataframe thead th {\n",
       "        text-align: right;\n",
       "    }\n",
       "</style>\n",
       "<table border=\"1\" class=\"dataframe\">\n",
       "  <thead>\n",
       "    <tr style=\"text-align: right;\">\n",
       "      <th></th>\n",
       "      <th>StateAbbr</th>\n",
       "      <th>total_questions</th>\n",
       "      <th>conversion_asktake</th>\n",
       "      <th>conversion_askclose</th>\n",
       "      <th>total_notakeclosed</th>\n",
       "      <th>takerate</th>\n",
       "      <th>closerate</th>\n",
       "      <th>notanswbutclosed</th>\n",
       "    </tr>\n",
       "  </thead>\n",
       "  <tbody>\n",
       "    <tr>\n",
       "      <th>0</th>\n",
       "      <td>AK</td>\n",
       "      <td>862</td>\n",
       "      <td>499</td>\n",
       "      <td>443</td>\n",
       "      <td>0</td>\n",
       "      <td>0.578886</td>\n",
       "      <td>0.513921</td>\n",
       "      <td>0.000000</td>\n",
       "    </tr>\n",
       "    <tr>\n",
       "      <th>1</th>\n",
       "      <td>AL</td>\n",
       "      <td>848</td>\n",
       "      <td>573</td>\n",
       "      <td>512</td>\n",
       "      <td>0</td>\n",
       "      <td>0.675708</td>\n",
       "      <td>0.603774</td>\n",
       "      <td>0.000000</td>\n",
       "    </tr>\n",
       "    <tr>\n",
       "      <th>2</th>\n",
       "      <td>AR</td>\n",
       "      <td>2436</td>\n",
       "      <td>1973</td>\n",
       "      <td>1812</td>\n",
       "      <td>0</td>\n",
       "      <td>0.809934</td>\n",
       "      <td>0.743842</td>\n",
       "      <td>0.000000</td>\n",
       "    </tr>\n",
       "    <tr>\n",
       "      <th>3</th>\n",
       "      <td>AZ</td>\n",
       "      <td>5455</td>\n",
       "      <td>1342</td>\n",
       "      <td>1749</td>\n",
       "      <td>576</td>\n",
       "      <td>0.246013</td>\n",
       "      <td>0.320623</td>\n",
       "      <td>0.105591</td>\n",
       "    </tr>\n",
       "    <tr>\n",
       "      <th>4</th>\n",
       "      <td>CA</td>\n",
       "      <td>2324</td>\n",
       "      <td>1082</td>\n",
       "      <td>962</td>\n",
       "      <td>0</td>\n",
       "      <td>0.465577</td>\n",
       "      <td>0.413941</td>\n",
       "      <td>0.000000</td>\n",
       "    </tr>\n",
       "    <tr>\n",
       "      <th>5</th>\n",
       "      <td>CT</td>\n",
       "      <td>1170</td>\n",
       "      <td>773</td>\n",
       "      <td>691</td>\n",
       "      <td>0</td>\n",
       "      <td>0.660684</td>\n",
       "      <td>0.590598</td>\n",
       "      <td>0.000000</td>\n",
       "    </tr>\n",
       "    <tr>\n",
       "      <th>6</th>\n",
       "      <td>FL</td>\n",
       "      <td>19864</td>\n",
       "      <td>17192</td>\n",
       "      <td>16293</td>\n",
       "      <td>0</td>\n",
       "      <td>0.865485</td>\n",
       "      <td>0.820228</td>\n",
       "      <td>0.000000</td>\n",
       "    </tr>\n",
       "    <tr>\n",
       "      <th>7</th>\n",
       "      <td>GA</td>\n",
       "      <td>7607</td>\n",
       "      <td>1553</td>\n",
       "      <td>1473</td>\n",
       "      <td>0</td>\n",
       "      <td>0.204154</td>\n",
       "      <td>0.193637</td>\n",
       "      <td>0.000000</td>\n",
       "    </tr>\n",
       "    <tr>\n",
       "      <th>8</th>\n",
       "      <td>HI</td>\n",
       "      <td>2137</td>\n",
       "      <td>1557</td>\n",
       "      <td>1439</td>\n",
       "      <td>0</td>\n",
       "      <td>0.728591</td>\n",
       "      <td>0.673374</td>\n",
       "      <td>0.000000</td>\n",
       "    </tr>\n",
       "    <tr>\n",
       "      <th>9</th>\n",
       "      <td>IA</td>\n",
       "      <td>1861</td>\n",
       "      <td>790</td>\n",
       "      <td>733</td>\n",
       "      <td>0</td>\n",
       "      <td>0.424503</td>\n",
       "      <td>0.393874</td>\n",
       "      <td>0.000000</td>\n",
       "    </tr>\n",
       "    <tr>\n",
       "      <th>10</th>\n",
       "      <td>ID</td>\n",
       "      <td>1</td>\n",
       "      <td>0</td>\n",
       "      <td>0</td>\n",
       "      <td>0</td>\n",
       "      <td>0.000000</td>\n",
       "      <td>0.000000</td>\n",
       "      <td>0.000000</td>\n",
       "    </tr>\n",
       "    <tr>\n",
       "      <th>11</th>\n",
       "      <td>IL</td>\n",
       "      <td>14074</td>\n",
       "      <td>10737</td>\n",
       "      <td>9876</td>\n",
       "      <td>0</td>\n",
       "      <td>0.762896</td>\n",
       "      <td>0.701719</td>\n",
       "      <td>0.000000</td>\n",
       "    </tr>\n",
       "    <tr>\n",
       "      <th>12</th>\n",
       "      <td>IN</td>\n",
       "      <td>20767</td>\n",
       "      <td>9660</td>\n",
       "      <td>13772</td>\n",
       "      <td>4666</td>\n",
       "      <td>0.465161</td>\n",
       "      <td>0.663168</td>\n",
       "      <td>0.224683</td>\n",
       "    </tr>\n",
       "    <tr>\n",
       "      <th>13</th>\n",
       "      <td>KS</td>\n",
       "      <td>498</td>\n",
       "      <td>121</td>\n",
       "      <td>91</td>\n",
       "      <td>0</td>\n",
       "      <td>0.242972</td>\n",
       "      <td>0.182731</td>\n",
       "      <td>0.000000</td>\n",
       "    </tr>\n",
       "    <tr>\n",
       "      <th>14</th>\n",
       "      <td>LA</td>\n",
       "      <td>3824</td>\n",
       "      <td>3131</td>\n",
       "      <td>2906</td>\n",
       "      <td>0</td>\n",
       "      <td>0.818776</td>\n",
       "      <td>0.759937</td>\n",
       "      <td>0.000000</td>\n",
       "    </tr>\n",
       "    <tr>\n",
       "      <th>15</th>\n",
       "      <td>MA</td>\n",
       "      <td>8814</td>\n",
       "      <td>6947</td>\n",
       "      <td>6358</td>\n",
       "      <td>0</td>\n",
       "      <td>0.788178</td>\n",
       "      <td>0.721352</td>\n",
       "      <td>0.000000</td>\n",
       "    </tr>\n",
       "    <tr>\n",
       "      <th>16</th>\n",
       "      <td>MD</td>\n",
       "      <td>2590</td>\n",
       "      <td>1649</td>\n",
       "      <td>1506</td>\n",
       "      <td>0</td>\n",
       "      <td>0.636680</td>\n",
       "      <td>0.581467</td>\n",
       "      <td>0.000000</td>\n",
       "    </tr>\n",
       "    <tr>\n",
       "      <th>17</th>\n",
       "      <td>ME</td>\n",
       "      <td>3407</td>\n",
       "      <td>2872</td>\n",
       "      <td>2695</td>\n",
       "      <td>0</td>\n",
       "      <td>0.842970</td>\n",
       "      <td>0.791018</td>\n",
       "      <td>0.000000</td>\n",
       "    </tr>\n",
       "    <tr>\n",
       "      <th>18</th>\n",
       "      <td>MI</td>\n",
       "      <td>514</td>\n",
       "      <td>342</td>\n",
       "      <td>312</td>\n",
       "      <td>0</td>\n",
       "      <td>0.665370</td>\n",
       "      <td>0.607004</td>\n",
       "      <td>0.000000</td>\n",
       "    </tr>\n",
       "    <tr>\n",
       "      <th>19</th>\n",
       "      <td>MO</td>\n",
       "      <td>9054</td>\n",
       "      <td>7896</td>\n",
       "      <td>7214</td>\n",
       "      <td>0</td>\n",
       "      <td>0.872101</td>\n",
       "      <td>0.796775</td>\n",
       "      <td>0.000000</td>\n",
       "    </tr>\n",
       "    <tr>\n",
       "      <th>20</th>\n",
       "      <td>MS</td>\n",
       "      <td>1501</td>\n",
       "      <td>981</td>\n",
       "      <td>898</td>\n",
       "      <td>0</td>\n",
       "      <td>0.653564</td>\n",
       "      <td>0.598268</td>\n",
       "      <td>0.000000</td>\n",
       "    </tr>\n",
       "    <tr>\n",
       "      <th>21</th>\n",
       "      <td>NC</td>\n",
       "      <td>6054</td>\n",
       "      <td>5031</td>\n",
       "      <td>4629</td>\n",
       "      <td>0</td>\n",
       "      <td>0.831021</td>\n",
       "      <td>0.764618</td>\n",
       "      <td>0.000000</td>\n",
       "    </tr>\n",
       "    <tr>\n",
       "      <th>22</th>\n",
       "      <td>NE</td>\n",
       "      <td>3284</td>\n",
       "      <td>2455</td>\n",
       "      <td>2216</td>\n",
       "      <td>0</td>\n",
       "      <td>0.747564</td>\n",
       "      <td>0.674787</td>\n",
       "      <td>0.000000</td>\n",
       "    </tr>\n",
       "    <tr>\n",
       "      <th>23</th>\n",
       "      <td>NH</td>\n",
       "      <td>1444</td>\n",
       "      <td>1123</td>\n",
       "      <td>1021</td>\n",
       "      <td>0</td>\n",
       "      <td>0.777701</td>\n",
       "      <td>0.707064</td>\n",
       "      <td>0.000000</td>\n",
       "    </tr>\n",
       "    <tr>\n",
       "      <th>24</th>\n",
       "      <td>NJ</td>\n",
       "      <td>768</td>\n",
       "      <td>606</td>\n",
       "      <td>546</td>\n",
       "      <td>0</td>\n",
       "      <td>0.789062</td>\n",
       "      <td>0.710938</td>\n",
       "      <td>0.000000</td>\n",
       "    </tr>\n",
       "    <tr>\n",
       "      <th>25</th>\n",
       "      <td>NM</td>\n",
       "      <td>967</td>\n",
       "      <td>787</td>\n",
       "      <td>696</td>\n",
       "      <td>0</td>\n",
       "      <td>0.813857</td>\n",
       "      <td>0.719752</td>\n",
       "      <td>0.000000</td>\n",
       "    </tr>\n",
       "    <tr>\n",
       "      <th>26</th>\n",
       "      <td>NY</td>\n",
       "      <td>5610</td>\n",
       "      <td>4921</td>\n",
       "      <td>4536</td>\n",
       "      <td>0</td>\n",
       "      <td>0.877184</td>\n",
       "      <td>0.808556</td>\n",
       "      <td>0.000000</td>\n",
       "    </tr>\n",
       "    <tr>\n",
       "      <th>27</th>\n",
       "      <td>OK</td>\n",
       "      <td>5454</td>\n",
       "      <td>3604</td>\n",
       "      <td>3344</td>\n",
       "      <td>0</td>\n",
       "      <td>0.660799</td>\n",
       "      <td>0.613128</td>\n",
       "      <td>0.000000</td>\n",
       "    </tr>\n",
       "    <tr>\n",
       "      <th>28</th>\n",
       "      <td>PA</td>\n",
       "      <td>693</td>\n",
       "      <td>126</td>\n",
       "      <td>117</td>\n",
       "      <td>0</td>\n",
       "      <td>0.181818</td>\n",
       "      <td>0.168831</td>\n",
       "      <td>0.000000</td>\n",
       "    </tr>\n",
       "    <tr>\n",
       "      <th>29</th>\n",
       "      <td>SC</td>\n",
       "      <td>14199</td>\n",
       "      <td>11280</td>\n",
       "      <td>10817</td>\n",
       "      <td>2</td>\n",
       "      <td>0.794422</td>\n",
       "      <td>0.761814</td>\n",
       "      <td>0.000141</td>\n",
       "    </tr>\n",
       "    <tr>\n",
       "      <th>30</th>\n",
       "      <td>SD</td>\n",
       "      <td>1126</td>\n",
       "      <td>1049</td>\n",
       "      <td>937</td>\n",
       "      <td>0</td>\n",
       "      <td>0.931616</td>\n",
       "      <td>0.832149</td>\n",
       "      <td>0.000000</td>\n",
       "    </tr>\n",
       "    <tr>\n",
       "      <th>31</th>\n",
       "      <td>TN</td>\n",
       "      <td>11287</td>\n",
       "      <td>10316</td>\n",
       "      <td>9395</td>\n",
       "      <td>0</td>\n",
       "      <td>0.913972</td>\n",
       "      <td>0.832374</td>\n",
       "      <td>0.000000</td>\n",
       "    </tr>\n",
       "    <tr>\n",
       "      <th>32</th>\n",
       "      <td>TX</td>\n",
       "      <td>21230</td>\n",
       "      <td>12841</td>\n",
       "      <td>12052</td>\n",
       "      <td>0</td>\n",
       "      <td>0.604852</td>\n",
       "      <td>0.567687</td>\n",
       "      <td>0.000000</td>\n",
       "    </tr>\n",
       "    <tr>\n",
       "      <th>33</th>\n",
       "      <td>US</td>\n",
       "      <td>305</td>\n",
       "      <td>117</td>\n",
       "      <td>91</td>\n",
       "      <td>0</td>\n",
       "      <td>0.383607</td>\n",
       "      <td>0.298361</td>\n",
       "      <td>0.000000</td>\n",
       "    </tr>\n",
       "    <tr>\n",
       "      <th>34</th>\n",
       "      <td>UT</td>\n",
       "      <td>1872</td>\n",
       "      <td>1553</td>\n",
       "      <td>1407</td>\n",
       "      <td>0</td>\n",
       "      <td>0.829594</td>\n",
       "      <td>0.751603</td>\n",
       "      <td>0.000000</td>\n",
       "    </tr>\n",
       "    <tr>\n",
       "      <th>35</th>\n",
       "      <td>VA</td>\n",
       "      <td>5467</td>\n",
       "      <td>4995</td>\n",
       "      <td>4612</td>\n",
       "      <td>0</td>\n",
       "      <td>0.913664</td>\n",
       "      <td>0.843607</td>\n",
       "      <td>0.000000</td>\n",
       "    </tr>\n",
       "    <tr>\n",
       "      <th>36</th>\n",
       "      <td>VT</td>\n",
       "      <td>1075</td>\n",
       "      <td>726</td>\n",
       "      <td>672</td>\n",
       "      <td>0</td>\n",
       "      <td>0.675349</td>\n",
       "      <td>0.625116</td>\n",
       "      <td>0.000000</td>\n",
       "    </tr>\n",
       "    <tr>\n",
       "      <th>37</th>\n",
       "      <td>WI</td>\n",
       "      <td>7466</td>\n",
       "      <td>6755</td>\n",
       "      <td>5707</td>\n",
       "      <td>0</td>\n",
       "      <td>0.904768</td>\n",
       "      <td>0.764399</td>\n",
       "      <td>0.000000</td>\n",
       "    </tr>\n",
       "    <tr>\n",
       "      <th>38</th>\n",
       "      <td>WV</td>\n",
       "      <td>3346</td>\n",
       "      <td>2690</td>\n",
       "      <td>2057</td>\n",
       "      <td>1</td>\n",
       "      <td>0.803945</td>\n",
       "      <td>0.614764</td>\n",
       "      <td>0.000299</td>\n",
       "    </tr>\n",
       "    <tr>\n",
       "      <th>39</th>\n",
       "      <td>WY</td>\n",
       "      <td>1624</td>\n",
       "      <td>1360</td>\n",
       "      <td>1200</td>\n",
       "      <td>0</td>\n",
       "      <td>0.837438</td>\n",
       "      <td>0.738916</td>\n",
       "      <td>0.000000</td>\n",
       "    </tr>\n",
       "  </tbody>\n",
       "</table>\n",
       "</div>"
      ],
      "text/plain": [
       "   StateAbbr  total_questions  conversion_asktake  conversion_askclose  \\\n",
       "0         AK              862                 499                  443   \n",
       "1         AL              848                 573                  512   \n",
       "2         AR             2436                1973                 1812   \n",
       "3         AZ             5455                1342                 1749   \n",
       "4         CA             2324                1082                  962   \n",
       "5         CT             1170                 773                  691   \n",
       "6         FL            19864               17192                16293   \n",
       "7         GA             7607                1553                 1473   \n",
       "8         HI             2137                1557                 1439   \n",
       "9         IA             1861                 790                  733   \n",
       "10        ID                1                   0                    0   \n",
       "11        IL            14074               10737                 9876   \n",
       "12        IN            20767                9660                13772   \n",
       "13        KS              498                 121                   91   \n",
       "14        LA             3824                3131                 2906   \n",
       "15        MA             8814                6947                 6358   \n",
       "16        MD             2590                1649                 1506   \n",
       "17        ME             3407                2872                 2695   \n",
       "18        MI              514                 342                  312   \n",
       "19        MO             9054                7896                 7214   \n",
       "20        MS             1501                 981                  898   \n",
       "21        NC             6054                5031                 4629   \n",
       "22        NE             3284                2455                 2216   \n",
       "23        NH             1444                1123                 1021   \n",
       "24        NJ              768                 606                  546   \n",
       "25        NM              967                 787                  696   \n",
       "26        NY             5610                4921                 4536   \n",
       "27        OK             5454                3604                 3344   \n",
       "28        PA              693                 126                  117   \n",
       "29        SC            14199               11280                10817   \n",
       "30        SD             1126                1049                  937   \n",
       "31        TN            11287               10316                 9395   \n",
       "32        TX            21230               12841                12052   \n",
       "33        US              305                 117                   91   \n",
       "34        UT             1872                1553                 1407   \n",
       "35        VA             5467                4995                 4612   \n",
       "36        VT             1075                 726                  672   \n",
       "37        WI             7466                6755                 5707   \n",
       "38        WV             3346                2690                 2057   \n",
       "39        WY             1624                1360                 1200   \n",
       "\n",
       "    total_notakeclosed  takerate  closerate  notanswbutclosed  \n",
       "0                    0  0.578886   0.513921          0.000000  \n",
       "1                    0  0.675708   0.603774          0.000000  \n",
       "2                    0  0.809934   0.743842          0.000000  \n",
       "3                  576  0.246013   0.320623          0.105591  \n",
       "4                    0  0.465577   0.413941          0.000000  \n",
       "5                    0  0.660684   0.590598          0.000000  \n",
       "6                    0  0.865485   0.820228          0.000000  \n",
       "7                    0  0.204154   0.193637          0.000000  \n",
       "8                    0  0.728591   0.673374          0.000000  \n",
       "9                    0  0.424503   0.393874          0.000000  \n",
       "10                   0  0.000000   0.000000          0.000000  \n",
       "11                   0  0.762896   0.701719          0.000000  \n",
       "12                4666  0.465161   0.663168          0.224683  \n",
       "13                   0  0.242972   0.182731          0.000000  \n",
       "14                   0  0.818776   0.759937          0.000000  \n",
       "15                   0  0.788178   0.721352          0.000000  \n",
       "16                   0  0.636680   0.581467          0.000000  \n",
       "17                   0  0.842970   0.791018          0.000000  \n",
       "18                   0  0.665370   0.607004          0.000000  \n",
       "19                   0  0.872101   0.796775          0.000000  \n",
       "20                   0  0.653564   0.598268          0.000000  \n",
       "21                   0  0.831021   0.764618          0.000000  \n",
       "22                   0  0.747564   0.674787          0.000000  \n",
       "23                   0  0.777701   0.707064          0.000000  \n",
       "24                   0  0.789062   0.710938          0.000000  \n",
       "25                   0  0.813857   0.719752          0.000000  \n",
       "26                   0  0.877184   0.808556          0.000000  \n",
       "27                   0  0.660799   0.613128          0.000000  \n",
       "28                   0  0.181818   0.168831          0.000000  \n",
       "29                   2  0.794422   0.761814          0.000141  \n",
       "30                   0  0.931616   0.832149          0.000000  \n",
       "31                   0  0.913972   0.832374          0.000000  \n",
       "32                   0  0.604852   0.567687          0.000000  \n",
       "33                   0  0.383607   0.298361          0.000000  \n",
       "34                   0  0.829594   0.751603          0.000000  \n",
       "35                   0  0.913664   0.843607          0.000000  \n",
       "36                   0  0.675349   0.625116          0.000000  \n",
       "37                   0  0.904768   0.764399          0.000000  \n",
       "38                   1  0.803945   0.614764          0.000299  \n",
       "39                   0  0.837438   0.738916          0.000000  "
      ]
     },
     "execution_count": 7,
     "metadata": {},
     "output_type": "execute_result"
    }
   ],
   "source": [
    "totalquestions_rate = pd.read_csv(\"totalquestions_rate.csv\") \n",
    "totalquestions_rate"
   ]
  },
  {
   "cell_type": "code",
   "execution_count": 25,
   "id": "11ebff1e",
   "metadata": {},
   "outputs": [
    {
     "data": {
      "text/html": [
       "<div>\n",
       "<style scoped>\n",
       "    .dataframe tbody tr th:only-of-type {\n",
       "        vertical-align: middle;\n",
       "    }\n",
       "\n",
       "    .dataframe tbody tr th {\n",
       "        vertical-align: top;\n",
       "    }\n",
       "\n",
       "    .dataframe thead th {\n",
       "        text-align: right;\n",
       "    }\n",
       "</style>\n",
       "<table border=\"1\" class=\"dataframe\">\n",
       "  <thead>\n",
       "    <tr style=\"text-align: right;\">\n",
       "      <th></th>\n",
       "      <th>StateAbbr</th>\n",
       "      <th>Frequency</th>\n",
       "    </tr>\n",
       "  </thead>\n",
       "  <tbody>\n",
       "    <tr>\n",
       "      <th>0</th>\n",
       "      <td>AK</td>\n",
       "      <td>110</td>\n",
       "    </tr>\n",
       "    <tr>\n",
       "      <th>1</th>\n",
       "      <td>AL</td>\n",
       "      <td>138</td>\n",
       "    </tr>\n",
       "    <tr>\n",
       "      <th>2</th>\n",
       "      <td>AR</td>\n",
       "      <td>192</td>\n",
       "    </tr>\n",
       "    <tr>\n",
       "      <th>3</th>\n",
       "      <td>AZ</td>\n",
       "      <td>104</td>\n",
       "    </tr>\n",
       "    <tr>\n",
       "      <th>4</th>\n",
       "      <td>CA</td>\n",
       "      <td>245</td>\n",
       "    </tr>\n",
       "    <tr>\n",
       "      <th>5</th>\n",
       "      <td>CT</td>\n",
       "      <td>103</td>\n",
       "    </tr>\n",
       "    <tr>\n",
       "      <th>6</th>\n",
       "      <td>FL</td>\n",
       "      <td>1103</td>\n",
       "    </tr>\n",
       "    <tr>\n",
       "      <th>7</th>\n",
       "      <td>GA</td>\n",
       "      <td>308</td>\n",
       "    </tr>\n",
       "    <tr>\n",
       "      <th>8</th>\n",
       "      <td>HI</td>\n",
       "      <td>125</td>\n",
       "    </tr>\n",
       "    <tr>\n",
       "      <th>9</th>\n",
       "      <td>IA</td>\n",
       "      <td>67</td>\n",
       "    </tr>\n",
       "    <tr>\n",
       "      <th>10</th>\n",
       "      <td>ID</td>\n",
       "      <td>2</td>\n",
       "    </tr>\n",
       "    <tr>\n",
       "      <th>11</th>\n",
       "      <td>IL</td>\n",
       "      <td>997</td>\n",
       "    </tr>\n",
       "    <tr>\n",
       "      <th>12</th>\n",
       "      <td>IN</td>\n",
       "      <td>484</td>\n",
       "    </tr>\n",
       "    <tr>\n",
       "      <th>13</th>\n",
       "      <td>KS</td>\n",
       "      <td>30</td>\n",
       "    </tr>\n",
       "    <tr>\n",
       "      <th>14</th>\n",
       "      <td>LA</td>\n",
       "      <td>246</td>\n",
       "    </tr>\n",
       "    <tr>\n",
       "      <th>15</th>\n",
       "      <td>MA</td>\n",
       "      <td>533</td>\n",
       "    </tr>\n",
       "    <tr>\n",
       "      <th>16</th>\n",
       "      <td>MD</td>\n",
       "      <td>262</td>\n",
       "    </tr>\n",
       "    <tr>\n",
       "      <th>17</th>\n",
       "      <td>ME</td>\n",
       "      <td>193</td>\n",
       "    </tr>\n",
       "    <tr>\n",
       "      <th>18</th>\n",
       "      <td>MI</td>\n",
       "      <td>77</td>\n",
       "    </tr>\n",
       "    <tr>\n",
       "      <th>19</th>\n",
       "      <td>MO</td>\n",
       "      <td>315</td>\n",
       "    </tr>\n",
       "    <tr>\n",
       "      <th>20</th>\n",
       "      <td>MS</td>\n",
       "      <td>138</td>\n",
       "    </tr>\n",
       "    <tr>\n",
       "      <th>21</th>\n",
       "      <td>NC</td>\n",
       "      <td>629</td>\n",
       "    </tr>\n",
       "    <tr>\n",
       "      <th>22</th>\n",
       "      <td>ND</td>\n",
       "      <td>1</td>\n",
       "    </tr>\n",
       "    <tr>\n",
       "      <th>23</th>\n",
       "      <td>NE</td>\n",
       "      <td>266</td>\n",
       "    </tr>\n",
       "    <tr>\n",
       "      <th>24</th>\n",
       "      <td>NH</td>\n",
       "      <td>123</td>\n",
       "    </tr>\n",
       "    <tr>\n",
       "      <th>25</th>\n",
       "      <td>NJ</td>\n",
       "      <td>74</td>\n",
       "    </tr>\n",
       "    <tr>\n",
       "      <th>26</th>\n",
       "      <td>NM</td>\n",
       "      <td>94</td>\n",
       "    </tr>\n",
       "    <tr>\n",
       "      <th>27</th>\n",
       "      <td>NY</td>\n",
       "      <td>476</td>\n",
       "    </tr>\n",
       "    <tr>\n",
       "      <th>28</th>\n",
       "      <td>OK</td>\n",
       "      <td>167</td>\n",
       "    </tr>\n",
       "    <tr>\n",
       "      <th>29</th>\n",
       "      <td>PA</td>\n",
       "      <td>98</td>\n",
       "    </tr>\n",
       "    <tr>\n",
       "      <th>30</th>\n",
       "      <td>SC</td>\n",
       "      <td>260</td>\n",
       "    </tr>\n",
       "    <tr>\n",
       "      <th>31</th>\n",
       "      <td>SD</td>\n",
       "      <td>26</td>\n",
       "    </tr>\n",
       "    <tr>\n",
       "      <th>32</th>\n",
       "      <td>TN</td>\n",
       "      <td>1036</td>\n",
       "    </tr>\n",
       "    <tr>\n",
       "      <th>33</th>\n",
       "      <td>TX</td>\n",
       "      <td>1140</td>\n",
       "    </tr>\n",
       "    <tr>\n",
       "      <th>34</th>\n",
       "      <td>US</td>\n",
       "      <td>89</td>\n",
       "    </tr>\n",
       "    <tr>\n",
       "      <th>35</th>\n",
       "      <td>UT</td>\n",
       "      <td>97</td>\n",
       "    </tr>\n",
       "    <tr>\n",
       "      <th>36</th>\n",
       "      <td>VA</td>\n",
       "      <td>517</td>\n",
       "    </tr>\n",
       "    <tr>\n",
       "      <th>37</th>\n",
       "      <td>VI</td>\n",
       "      <td>3</td>\n",
       "    </tr>\n",
       "    <tr>\n",
       "      <th>38</th>\n",
       "      <td>VT</td>\n",
       "      <td>54</td>\n",
       "    </tr>\n",
       "    <tr>\n",
       "      <th>39</th>\n",
       "      <td>WI</td>\n",
       "      <td>385</td>\n",
       "    </tr>\n",
       "    <tr>\n",
       "      <th>40</th>\n",
       "      <td>WV</td>\n",
       "      <td>175</td>\n",
       "    </tr>\n",
       "    <tr>\n",
       "      <th>41</th>\n",
       "      <td>WY</td>\n",
       "      <td>62</td>\n",
       "    </tr>\n",
       "  </tbody>\n",
       "</table>\n",
       "</div>"
      ],
      "text/plain": [
       "   StateAbbr  Frequency\n",
       "0         AK        110\n",
       "1         AL        138\n",
       "2         AR        192\n",
       "3         AZ        104\n",
       "4         CA        245\n",
       "5         CT        103\n",
       "6         FL       1103\n",
       "7         GA        308\n",
       "8         HI        125\n",
       "9         IA         67\n",
       "10        ID          2\n",
       "11        IL        997\n",
       "12        IN        484\n",
       "13        KS         30\n",
       "14        LA        246\n",
       "15        MA        533\n",
       "16        MD        262\n",
       "17        ME        193\n",
       "18        MI         77\n",
       "19        MO        315\n",
       "20        MS        138\n",
       "21        NC        629\n",
       "22        ND          1\n",
       "23        NE        266\n",
       "24        NH        123\n",
       "25        NJ         74\n",
       "26        NM         94\n",
       "27        NY        476\n",
       "28        OK        167\n",
       "29        PA         98\n",
       "30        SC        260\n",
       "31        SD         26\n",
       "32        TN       1036\n",
       "33        TX       1140\n",
       "34        US         89\n",
       "35        UT         97\n",
       "36        VA        517\n",
       "37        VI          3\n",
       "38        VT         54\n",
       "39        WI        385\n",
       "40        WV        175\n",
       "41        WY         62"
      ]
     },
     "execution_count": 25,
     "metadata": {},
     "output_type": "execute_result"
    }
   ],
   "source": [
    "state_counts"
   ]
  },
  {
   "cell_type": "code",
   "execution_count": 8,
   "id": "8c2bc4c4",
   "metadata": {},
   "outputs": [],
   "source": [
    "att_ques = pd.merge(state_counts, totalquestions_rate, on='StateAbbr')\n",
    "att_ques.columns = ['StateAbbr', 'attorney_count', 'total_questions','conversion_asktake','conversion_askclose','total_notakeclosed','takerate','closerate','notanswbutclosed']"
   ]
  },
  {
   "cell_type": "code",
   "execution_count": 9,
   "id": "fdfb5160",
   "metadata": {},
   "outputs": [
    {
     "data": {
      "text/html": [
       "<div>\n",
       "<style scoped>\n",
       "    .dataframe tbody tr th:only-of-type {\n",
       "        vertical-align: middle;\n",
       "    }\n",
       "\n",
       "    .dataframe tbody tr th {\n",
       "        vertical-align: top;\n",
       "    }\n",
       "\n",
       "    .dataframe thead th {\n",
       "        text-align: right;\n",
       "    }\n",
       "</style>\n",
       "<table border=\"1\" class=\"dataframe\">\n",
       "  <thead>\n",
       "    <tr style=\"text-align: right;\">\n",
       "      <th></th>\n",
       "      <th>StateAbbr</th>\n",
       "      <th>attorney_count</th>\n",
       "      <th>total_questions</th>\n",
       "      <th>conversion_asktake</th>\n",
       "      <th>conversion_askclose</th>\n",
       "      <th>total_notakeclosed</th>\n",
       "      <th>takerate</th>\n",
       "      <th>closerate</th>\n",
       "      <th>notanswbutclosed</th>\n",
       "    </tr>\n",
       "  </thead>\n",
       "  <tbody>\n",
       "    <tr>\n",
       "      <th>0</th>\n",
       "      <td>AK</td>\n",
       "      <td>110</td>\n",
       "      <td>862</td>\n",
       "      <td>499</td>\n",
       "      <td>443</td>\n",
       "      <td>0</td>\n",
       "      <td>0.578886</td>\n",
       "      <td>0.513921</td>\n",
       "      <td>0.000000</td>\n",
       "    </tr>\n",
       "    <tr>\n",
       "      <th>1</th>\n",
       "      <td>AL</td>\n",
       "      <td>138</td>\n",
       "      <td>848</td>\n",
       "      <td>573</td>\n",
       "      <td>512</td>\n",
       "      <td>0</td>\n",
       "      <td>0.675708</td>\n",
       "      <td>0.603774</td>\n",
       "      <td>0.000000</td>\n",
       "    </tr>\n",
       "    <tr>\n",
       "      <th>2</th>\n",
       "      <td>AR</td>\n",
       "      <td>192</td>\n",
       "      <td>2436</td>\n",
       "      <td>1973</td>\n",
       "      <td>1812</td>\n",
       "      <td>0</td>\n",
       "      <td>0.809934</td>\n",
       "      <td>0.743842</td>\n",
       "      <td>0.000000</td>\n",
       "    </tr>\n",
       "    <tr>\n",
       "      <th>3</th>\n",
       "      <td>AZ</td>\n",
       "      <td>104</td>\n",
       "      <td>5455</td>\n",
       "      <td>1342</td>\n",
       "      <td>1749</td>\n",
       "      <td>576</td>\n",
       "      <td>0.246013</td>\n",
       "      <td>0.320623</td>\n",
       "      <td>0.105591</td>\n",
       "    </tr>\n",
       "    <tr>\n",
       "      <th>4</th>\n",
       "      <td>CA</td>\n",
       "      <td>245</td>\n",
       "      <td>2324</td>\n",
       "      <td>1082</td>\n",
       "      <td>962</td>\n",
       "      <td>0</td>\n",
       "      <td>0.465577</td>\n",
       "      <td>0.413941</td>\n",
       "      <td>0.000000</td>\n",
       "    </tr>\n",
       "    <tr>\n",
       "      <th>5</th>\n",
       "      <td>CT</td>\n",
       "      <td>103</td>\n",
       "      <td>1170</td>\n",
       "      <td>773</td>\n",
       "      <td>691</td>\n",
       "      <td>0</td>\n",
       "      <td>0.660684</td>\n",
       "      <td>0.590598</td>\n",
       "      <td>0.000000</td>\n",
       "    </tr>\n",
       "    <tr>\n",
       "      <th>6</th>\n",
       "      <td>FL</td>\n",
       "      <td>1103</td>\n",
       "      <td>19864</td>\n",
       "      <td>17192</td>\n",
       "      <td>16293</td>\n",
       "      <td>0</td>\n",
       "      <td>0.865485</td>\n",
       "      <td>0.820228</td>\n",
       "      <td>0.000000</td>\n",
       "    </tr>\n",
       "    <tr>\n",
       "      <th>7</th>\n",
       "      <td>GA</td>\n",
       "      <td>308</td>\n",
       "      <td>7607</td>\n",
       "      <td>1553</td>\n",
       "      <td>1473</td>\n",
       "      <td>0</td>\n",
       "      <td>0.204154</td>\n",
       "      <td>0.193637</td>\n",
       "      <td>0.000000</td>\n",
       "    </tr>\n",
       "    <tr>\n",
       "      <th>8</th>\n",
       "      <td>HI</td>\n",
       "      <td>125</td>\n",
       "      <td>2137</td>\n",
       "      <td>1557</td>\n",
       "      <td>1439</td>\n",
       "      <td>0</td>\n",
       "      <td>0.728591</td>\n",
       "      <td>0.673374</td>\n",
       "      <td>0.000000</td>\n",
       "    </tr>\n",
       "    <tr>\n",
       "      <th>9</th>\n",
       "      <td>IA</td>\n",
       "      <td>67</td>\n",
       "      <td>1861</td>\n",
       "      <td>790</td>\n",
       "      <td>733</td>\n",
       "      <td>0</td>\n",
       "      <td>0.424503</td>\n",
       "      <td>0.393874</td>\n",
       "      <td>0.000000</td>\n",
       "    </tr>\n",
       "    <tr>\n",
       "      <th>10</th>\n",
       "      <td>ID</td>\n",
       "      <td>2</td>\n",
       "      <td>1</td>\n",
       "      <td>0</td>\n",
       "      <td>0</td>\n",
       "      <td>0</td>\n",
       "      <td>0.000000</td>\n",
       "      <td>0.000000</td>\n",
       "      <td>0.000000</td>\n",
       "    </tr>\n",
       "    <tr>\n",
       "      <th>11</th>\n",
       "      <td>IL</td>\n",
       "      <td>997</td>\n",
       "      <td>14074</td>\n",
       "      <td>10737</td>\n",
       "      <td>9876</td>\n",
       "      <td>0</td>\n",
       "      <td>0.762896</td>\n",
       "      <td>0.701719</td>\n",
       "      <td>0.000000</td>\n",
       "    </tr>\n",
       "    <tr>\n",
       "      <th>12</th>\n",
       "      <td>IN</td>\n",
       "      <td>484</td>\n",
       "      <td>20767</td>\n",
       "      <td>9660</td>\n",
       "      <td>13772</td>\n",
       "      <td>4666</td>\n",
       "      <td>0.465161</td>\n",
       "      <td>0.663168</td>\n",
       "      <td>0.224683</td>\n",
       "    </tr>\n",
       "    <tr>\n",
       "      <th>13</th>\n",
       "      <td>KS</td>\n",
       "      <td>30</td>\n",
       "      <td>498</td>\n",
       "      <td>121</td>\n",
       "      <td>91</td>\n",
       "      <td>0</td>\n",
       "      <td>0.242972</td>\n",
       "      <td>0.182731</td>\n",
       "      <td>0.000000</td>\n",
       "    </tr>\n",
       "    <tr>\n",
       "      <th>14</th>\n",
       "      <td>LA</td>\n",
       "      <td>246</td>\n",
       "      <td>3824</td>\n",
       "      <td>3131</td>\n",
       "      <td>2906</td>\n",
       "      <td>0</td>\n",
       "      <td>0.818776</td>\n",
       "      <td>0.759937</td>\n",
       "      <td>0.000000</td>\n",
       "    </tr>\n",
       "    <tr>\n",
       "      <th>15</th>\n",
       "      <td>MA</td>\n",
       "      <td>533</td>\n",
       "      <td>8814</td>\n",
       "      <td>6947</td>\n",
       "      <td>6358</td>\n",
       "      <td>0</td>\n",
       "      <td>0.788178</td>\n",
       "      <td>0.721352</td>\n",
       "      <td>0.000000</td>\n",
       "    </tr>\n",
       "    <tr>\n",
       "      <th>16</th>\n",
       "      <td>MD</td>\n",
       "      <td>262</td>\n",
       "      <td>2590</td>\n",
       "      <td>1649</td>\n",
       "      <td>1506</td>\n",
       "      <td>0</td>\n",
       "      <td>0.636680</td>\n",
       "      <td>0.581467</td>\n",
       "      <td>0.000000</td>\n",
       "    </tr>\n",
       "    <tr>\n",
       "      <th>17</th>\n",
       "      <td>ME</td>\n",
       "      <td>193</td>\n",
       "      <td>3407</td>\n",
       "      <td>2872</td>\n",
       "      <td>2695</td>\n",
       "      <td>0</td>\n",
       "      <td>0.842970</td>\n",
       "      <td>0.791018</td>\n",
       "      <td>0.000000</td>\n",
       "    </tr>\n",
       "    <tr>\n",
       "      <th>18</th>\n",
       "      <td>MI</td>\n",
       "      <td>77</td>\n",
       "      <td>514</td>\n",
       "      <td>342</td>\n",
       "      <td>312</td>\n",
       "      <td>0</td>\n",
       "      <td>0.665370</td>\n",
       "      <td>0.607004</td>\n",
       "      <td>0.000000</td>\n",
       "    </tr>\n",
       "    <tr>\n",
       "      <th>19</th>\n",
       "      <td>MO</td>\n",
       "      <td>315</td>\n",
       "      <td>9054</td>\n",
       "      <td>7896</td>\n",
       "      <td>7214</td>\n",
       "      <td>0</td>\n",
       "      <td>0.872101</td>\n",
       "      <td>0.796775</td>\n",
       "      <td>0.000000</td>\n",
       "    </tr>\n",
       "    <tr>\n",
       "      <th>20</th>\n",
       "      <td>MS</td>\n",
       "      <td>138</td>\n",
       "      <td>1501</td>\n",
       "      <td>981</td>\n",
       "      <td>898</td>\n",
       "      <td>0</td>\n",
       "      <td>0.653564</td>\n",
       "      <td>0.598268</td>\n",
       "      <td>0.000000</td>\n",
       "    </tr>\n",
       "    <tr>\n",
       "      <th>21</th>\n",
       "      <td>NC</td>\n",
       "      <td>629</td>\n",
       "      <td>6054</td>\n",
       "      <td>5031</td>\n",
       "      <td>4629</td>\n",
       "      <td>0</td>\n",
       "      <td>0.831021</td>\n",
       "      <td>0.764618</td>\n",
       "      <td>0.000000</td>\n",
       "    </tr>\n",
       "    <tr>\n",
       "      <th>22</th>\n",
       "      <td>NE</td>\n",
       "      <td>266</td>\n",
       "      <td>3284</td>\n",
       "      <td>2455</td>\n",
       "      <td>2216</td>\n",
       "      <td>0</td>\n",
       "      <td>0.747564</td>\n",
       "      <td>0.674787</td>\n",
       "      <td>0.000000</td>\n",
       "    </tr>\n",
       "    <tr>\n",
       "      <th>23</th>\n",
       "      <td>NH</td>\n",
       "      <td>123</td>\n",
       "      <td>1444</td>\n",
       "      <td>1123</td>\n",
       "      <td>1021</td>\n",
       "      <td>0</td>\n",
       "      <td>0.777701</td>\n",
       "      <td>0.707064</td>\n",
       "      <td>0.000000</td>\n",
       "    </tr>\n",
       "    <tr>\n",
       "      <th>24</th>\n",
       "      <td>NJ</td>\n",
       "      <td>74</td>\n",
       "      <td>768</td>\n",
       "      <td>606</td>\n",
       "      <td>546</td>\n",
       "      <td>0</td>\n",
       "      <td>0.789062</td>\n",
       "      <td>0.710938</td>\n",
       "      <td>0.000000</td>\n",
       "    </tr>\n",
       "    <tr>\n",
       "      <th>25</th>\n",
       "      <td>NM</td>\n",
       "      <td>94</td>\n",
       "      <td>967</td>\n",
       "      <td>787</td>\n",
       "      <td>696</td>\n",
       "      <td>0</td>\n",
       "      <td>0.813857</td>\n",
       "      <td>0.719752</td>\n",
       "      <td>0.000000</td>\n",
       "    </tr>\n",
       "    <tr>\n",
       "      <th>26</th>\n",
       "      <td>NY</td>\n",
       "      <td>476</td>\n",
       "      <td>5610</td>\n",
       "      <td>4921</td>\n",
       "      <td>4536</td>\n",
       "      <td>0</td>\n",
       "      <td>0.877184</td>\n",
       "      <td>0.808556</td>\n",
       "      <td>0.000000</td>\n",
       "    </tr>\n",
       "    <tr>\n",
       "      <th>27</th>\n",
       "      <td>OK</td>\n",
       "      <td>167</td>\n",
       "      <td>5454</td>\n",
       "      <td>3604</td>\n",
       "      <td>3344</td>\n",
       "      <td>0</td>\n",
       "      <td>0.660799</td>\n",
       "      <td>0.613128</td>\n",
       "      <td>0.000000</td>\n",
       "    </tr>\n",
       "    <tr>\n",
       "      <th>28</th>\n",
       "      <td>PA</td>\n",
       "      <td>98</td>\n",
       "      <td>693</td>\n",
       "      <td>126</td>\n",
       "      <td>117</td>\n",
       "      <td>0</td>\n",
       "      <td>0.181818</td>\n",
       "      <td>0.168831</td>\n",
       "      <td>0.000000</td>\n",
       "    </tr>\n",
       "    <tr>\n",
       "      <th>29</th>\n",
       "      <td>SC</td>\n",
       "      <td>260</td>\n",
       "      <td>14199</td>\n",
       "      <td>11280</td>\n",
       "      <td>10817</td>\n",
       "      <td>2</td>\n",
       "      <td>0.794422</td>\n",
       "      <td>0.761814</td>\n",
       "      <td>0.000141</td>\n",
       "    </tr>\n",
       "    <tr>\n",
       "      <th>30</th>\n",
       "      <td>SD</td>\n",
       "      <td>26</td>\n",
       "      <td>1126</td>\n",
       "      <td>1049</td>\n",
       "      <td>937</td>\n",
       "      <td>0</td>\n",
       "      <td>0.931616</td>\n",
       "      <td>0.832149</td>\n",
       "      <td>0.000000</td>\n",
       "    </tr>\n",
       "    <tr>\n",
       "      <th>31</th>\n",
       "      <td>TN</td>\n",
       "      <td>1036</td>\n",
       "      <td>11287</td>\n",
       "      <td>10316</td>\n",
       "      <td>9395</td>\n",
       "      <td>0</td>\n",
       "      <td>0.913972</td>\n",
       "      <td>0.832374</td>\n",
       "      <td>0.000000</td>\n",
       "    </tr>\n",
       "    <tr>\n",
       "      <th>32</th>\n",
       "      <td>TX</td>\n",
       "      <td>1140</td>\n",
       "      <td>21230</td>\n",
       "      <td>12841</td>\n",
       "      <td>12052</td>\n",
       "      <td>0</td>\n",
       "      <td>0.604852</td>\n",
       "      <td>0.567687</td>\n",
       "      <td>0.000000</td>\n",
       "    </tr>\n",
       "    <tr>\n",
       "      <th>33</th>\n",
       "      <td>US</td>\n",
       "      <td>89</td>\n",
       "      <td>305</td>\n",
       "      <td>117</td>\n",
       "      <td>91</td>\n",
       "      <td>0</td>\n",
       "      <td>0.383607</td>\n",
       "      <td>0.298361</td>\n",
       "      <td>0.000000</td>\n",
       "    </tr>\n",
       "    <tr>\n",
       "      <th>34</th>\n",
       "      <td>UT</td>\n",
       "      <td>97</td>\n",
       "      <td>1872</td>\n",
       "      <td>1553</td>\n",
       "      <td>1407</td>\n",
       "      <td>0</td>\n",
       "      <td>0.829594</td>\n",
       "      <td>0.751603</td>\n",
       "      <td>0.000000</td>\n",
       "    </tr>\n",
       "    <tr>\n",
       "      <th>35</th>\n",
       "      <td>VA</td>\n",
       "      <td>517</td>\n",
       "      <td>5467</td>\n",
       "      <td>4995</td>\n",
       "      <td>4612</td>\n",
       "      <td>0</td>\n",
       "      <td>0.913664</td>\n",
       "      <td>0.843607</td>\n",
       "      <td>0.000000</td>\n",
       "    </tr>\n",
       "    <tr>\n",
       "      <th>36</th>\n",
       "      <td>VT</td>\n",
       "      <td>54</td>\n",
       "      <td>1075</td>\n",
       "      <td>726</td>\n",
       "      <td>672</td>\n",
       "      <td>0</td>\n",
       "      <td>0.675349</td>\n",
       "      <td>0.625116</td>\n",
       "      <td>0.000000</td>\n",
       "    </tr>\n",
       "    <tr>\n",
       "      <th>37</th>\n",
       "      <td>WI</td>\n",
       "      <td>385</td>\n",
       "      <td>7466</td>\n",
       "      <td>6755</td>\n",
       "      <td>5707</td>\n",
       "      <td>0</td>\n",
       "      <td>0.904768</td>\n",
       "      <td>0.764399</td>\n",
       "      <td>0.000000</td>\n",
       "    </tr>\n",
       "    <tr>\n",
       "      <th>38</th>\n",
       "      <td>WV</td>\n",
       "      <td>175</td>\n",
       "      <td>3346</td>\n",
       "      <td>2690</td>\n",
       "      <td>2057</td>\n",
       "      <td>1</td>\n",
       "      <td>0.803945</td>\n",
       "      <td>0.614764</td>\n",
       "      <td>0.000299</td>\n",
       "    </tr>\n",
       "    <tr>\n",
       "      <th>39</th>\n",
       "      <td>WY</td>\n",
       "      <td>62</td>\n",
       "      <td>1624</td>\n",
       "      <td>1360</td>\n",
       "      <td>1200</td>\n",
       "      <td>0</td>\n",
       "      <td>0.837438</td>\n",
       "      <td>0.738916</td>\n",
       "      <td>0.000000</td>\n",
       "    </tr>\n",
       "  </tbody>\n",
       "</table>\n",
       "</div>"
      ],
      "text/plain": [
       "   StateAbbr  attorney_count  total_questions  conversion_asktake  \\\n",
       "0         AK             110              862                 499   \n",
       "1         AL             138              848                 573   \n",
       "2         AR             192             2436                1973   \n",
       "3         AZ             104             5455                1342   \n",
       "4         CA             245             2324                1082   \n",
       "5         CT             103             1170                 773   \n",
       "6         FL            1103            19864               17192   \n",
       "7         GA             308             7607                1553   \n",
       "8         HI             125             2137                1557   \n",
       "9         IA              67             1861                 790   \n",
       "10        ID               2                1                   0   \n",
       "11        IL             997            14074               10737   \n",
       "12        IN             484            20767                9660   \n",
       "13        KS              30              498                 121   \n",
       "14        LA             246             3824                3131   \n",
       "15        MA             533             8814                6947   \n",
       "16        MD             262             2590                1649   \n",
       "17        ME             193             3407                2872   \n",
       "18        MI              77              514                 342   \n",
       "19        MO             315             9054                7896   \n",
       "20        MS             138             1501                 981   \n",
       "21        NC             629             6054                5031   \n",
       "22        NE             266             3284                2455   \n",
       "23        NH             123             1444                1123   \n",
       "24        NJ              74              768                 606   \n",
       "25        NM              94              967                 787   \n",
       "26        NY             476             5610                4921   \n",
       "27        OK             167             5454                3604   \n",
       "28        PA              98              693                 126   \n",
       "29        SC             260            14199               11280   \n",
       "30        SD              26             1126                1049   \n",
       "31        TN            1036            11287               10316   \n",
       "32        TX            1140            21230               12841   \n",
       "33        US              89              305                 117   \n",
       "34        UT              97             1872                1553   \n",
       "35        VA             517             5467                4995   \n",
       "36        VT              54             1075                 726   \n",
       "37        WI             385             7466                6755   \n",
       "38        WV             175             3346                2690   \n",
       "39        WY              62             1624                1360   \n",
       "\n",
       "    conversion_askclose  total_notakeclosed  takerate  closerate  \\\n",
       "0                   443                   0  0.578886   0.513921   \n",
       "1                   512                   0  0.675708   0.603774   \n",
       "2                  1812                   0  0.809934   0.743842   \n",
       "3                  1749                 576  0.246013   0.320623   \n",
       "4                   962                   0  0.465577   0.413941   \n",
       "5                   691                   0  0.660684   0.590598   \n",
       "6                 16293                   0  0.865485   0.820228   \n",
       "7                  1473                   0  0.204154   0.193637   \n",
       "8                  1439                   0  0.728591   0.673374   \n",
       "9                   733                   0  0.424503   0.393874   \n",
       "10                    0                   0  0.000000   0.000000   \n",
       "11                 9876                   0  0.762896   0.701719   \n",
       "12                13772                4666  0.465161   0.663168   \n",
       "13                   91                   0  0.242972   0.182731   \n",
       "14                 2906                   0  0.818776   0.759937   \n",
       "15                 6358                   0  0.788178   0.721352   \n",
       "16                 1506                   0  0.636680   0.581467   \n",
       "17                 2695                   0  0.842970   0.791018   \n",
       "18                  312                   0  0.665370   0.607004   \n",
       "19                 7214                   0  0.872101   0.796775   \n",
       "20                  898                   0  0.653564   0.598268   \n",
       "21                 4629                   0  0.831021   0.764618   \n",
       "22                 2216                   0  0.747564   0.674787   \n",
       "23                 1021                   0  0.777701   0.707064   \n",
       "24                  546                   0  0.789062   0.710938   \n",
       "25                  696                   0  0.813857   0.719752   \n",
       "26                 4536                   0  0.877184   0.808556   \n",
       "27                 3344                   0  0.660799   0.613128   \n",
       "28                  117                   0  0.181818   0.168831   \n",
       "29                10817                   2  0.794422   0.761814   \n",
       "30                  937                   0  0.931616   0.832149   \n",
       "31                 9395                   0  0.913972   0.832374   \n",
       "32                12052                   0  0.604852   0.567687   \n",
       "33                   91                   0  0.383607   0.298361   \n",
       "34                 1407                   0  0.829594   0.751603   \n",
       "35                 4612                   0  0.913664   0.843607   \n",
       "36                  672                   0  0.675349   0.625116   \n",
       "37                 5707                   0  0.904768   0.764399   \n",
       "38                 2057                   1  0.803945   0.614764   \n",
       "39                 1200                   0  0.837438   0.738916   \n",
       "\n",
       "    notanswbutclosed  \n",
       "0           0.000000  \n",
       "1           0.000000  \n",
       "2           0.000000  \n",
       "3           0.105591  \n",
       "4           0.000000  \n",
       "5           0.000000  \n",
       "6           0.000000  \n",
       "7           0.000000  \n",
       "8           0.000000  \n",
       "9           0.000000  \n",
       "10          0.000000  \n",
       "11          0.000000  \n",
       "12          0.224683  \n",
       "13          0.000000  \n",
       "14          0.000000  \n",
       "15          0.000000  \n",
       "16          0.000000  \n",
       "17          0.000000  \n",
       "18          0.000000  \n",
       "19          0.000000  \n",
       "20          0.000000  \n",
       "21          0.000000  \n",
       "22          0.000000  \n",
       "23          0.000000  \n",
       "24          0.000000  \n",
       "25          0.000000  \n",
       "26          0.000000  \n",
       "27          0.000000  \n",
       "28          0.000000  \n",
       "29          0.000141  \n",
       "30          0.000000  \n",
       "31          0.000000  \n",
       "32          0.000000  \n",
       "33          0.000000  \n",
       "34          0.000000  \n",
       "35          0.000000  \n",
       "36          0.000000  \n",
       "37          0.000000  \n",
       "38          0.000299  \n",
       "39          0.000000  "
      ]
     },
     "execution_count": 9,
     "metadata": {},
     "output_type": "execute_result"
    }
   ],
   "source": [
    "att_ques"
   ]
  },
  {
   "cell_type": "code",
   "execution_count": 10,
   "id": "7fb0eb63",
   "metadata": {},
   "outputs": [],
   "source": [
    "att_ques['take_attorney'] = att_ques['takerate']/att_ques['attorney_count']\n",
    "att_ques['close_attorney'] = att_ques['closerate']/att_ques['attorney_count']\n",
    "att_ques['ques_attorney'] = att_ques['total_questions']/att_ques['attorney_count']\n",
    "att_ques['take_attorney_number'] = att_ques['conversion_asktake']/att_ques['attorney_count']\n",
    "att_ques['nottakenbutclosed'] = att_ques['total_notakeclosed']/att_ques['attorney_count']\n"
   ]
  },
  {
   "cell_type": "code",
   "execution_count": 33,
   "id": "3bf10e3c",
   "metadata": {},
   "outputs": [
    {
     "data": {
      "application/vnd.plotly.v1+json": {
       "config": {
        "plotlyServerURL": "https://plot.ly"
       },
       "data": [
        {
         "coloraxis": "coloraxis",
         "geo": "geo",
         "hovertemplate": "StateAbbr=%{location}<br>total_notakeclosed=%{z}<extra></extra>",
         "locationmode": "USA-states",
         "locations": [
          "AK",
          "AL",
          "AR",
          "AZ",
          "CA",
          "CT",
          "FL",
          "GA",
          "HI",
          "IA",
          "ID",
          "IL",
          "IN",
          "KS",
          "LA",
          "MA",
          "MD",
          "ME",
          "MI",
          "MO",
          "MS",
          "NC",
          "NE",
          "NH",
          "NJ",
          "NM",
          "NY",
          "OK",
          "PA",
          "SC",
          "SD",
          "TN",
          "TX",
          "US",
          "UT",
          "VA",
          "VT",
          "WI",
          "WV",
          "WY"
         ],
         "name": "",
         "type": "choropleth",
         "z": [
          0,
          0,
          0,
          576,
          0,
          0,
          0,
          0,
          0,
          0,
          0,
          0,
          4666,
          0,
          0,
          0,
          0,
          0,
          0,
          0,
          0,
          0,
          0,
          0,
          0,
          0,
          0,
          0,
          0,
          2,
          0,
          0,
          0,
          0,
          0,
          0,
          0,
          0,
          1,
          0
         ]
        }
       ],
       "layout": {
        "coloraxis": {
         "colorbar": {
          "title": {
           "text": "total_notakeclosed"
          }
         },
         "colorscale": [
          [
           0,
           "#0d0887"
          ],
          [
           0.1111111111111111,
           "#46039f"
          ],
          [
           0.2222222222222222,
           "#7201a8"
          ],
          [
           0.3333333333333333,
           "#9c179e"
          ],
          [
           0.4444444444444444,
           "#bd3786"
          ],
          [
           0.5555555555555556,
           "#d8576b"
          ],
          [
           0.6666666666666666,
           "#ed7953"
          ],
          [
           0.7777777777777778,
           "#fb9f3a"
          ],
          [
           0.8888888888888888,
           "#fdca26"
          ],
          [
           1,
           "#f0f921"
          ]
         ]
        },
        "geo": {
         "center": {},
         "domain": {
          "x": [
           0,
           1
          ],
          "y": [
           0,
           1
          ]
         },
         "scope": "usa"
        },
        "legend": {
         "tracegroupgap": 0
        },
        "margin": {
         "t": 60
        },
        "template": {
         "data": {
          "bar": [
           {
            "error_x": {
             "color": "#2a3f5f"
            },
            "error_y": {
             "color": "#2a3f5f"
            },
            "marker": {
             "line": {
              "color": "#E5ECF6",
              "width": 0.5
             },
             "pattern": {
              "fillmode": "overlay",
              "size": 10,
              "solidity": 0.2
             }
            },
            "type": "bar"
           }
          ],
          "barpolar": [
           {
            "marker": {
             "line": {
              "color": "#E5ECF6",
              "width": 0.5
             },
             "pattern": {
              "fillmode": "overlay",
              "size": 10,
              "solidity": 0.2
             }
            },
            "type": "barpolar"
           }
          ],
          "carpet": [
           {
            "aaxis": {
             "endlinecolor": "#2a3f5f",
             "gridcolor": "white",
             "linecolor": "white",
             "minorgridcolor": "white",
             "startlinecolor": "#2a3f5f"
            },
            "baxis": {
             "endlinecolor": "#2a3f5f",
             "gridcolor": "white",
             "linecolor": "white",
             "minorgridcolor": "white",
             "startlinecolor": "#2a3f5f"
            },
            "type": "carpet"
           }
          ],
          "choropleth": [
           {
            "colorbar": {
             "outlinewidth": 0,
             "ticks": ""
            },
            "type": "choropleth"
           }
          ],
          "contour": [
           {
            "colorbar": {
             "outlinewidth": 0,
             "ticks": ""
            },
            "colorscale": [
             [
              0,
              "#0d0887"
             ],
             [
              0.1111111111111111,
              "#46039f"
             ],
             [
              0.2222222222222222,
              "#7201a8"
             ],
             [
              0.3333333333333333,
              "#9c179e"
             ],
             [
              0.4444444444444444,
              "#bd3786"
             ],
             [
              0.5555555555555556,
              "#d8576b"
             ],
             [
              0.6666666666666666,
              "#ed7953"
             ],
             [
              0.7777777777777778,
              "#fb9f3a"
             ],
             [
              0.8888888888888888,
              "#fdca26"
             ],
             [
              1,
              "#f0f921"
             ]
            ],
            "type": "contour"
           }
          ],
          "contourcarpet": [
           {
            "colorbar": {
             "outlinewidth": 0,
             "ticks": ""
            },
            "type": "contourcarpet"
           }
          ],
          "heatmap": [
           {
            "colorbar": {
             "outlinewidth": 0,
             "ticks": ""
            },
            "colorscale": [
             [
              0,
              "#0d0887"
             ],
             [
              0.1111111111111111,
              "#46039f"
             ],
             [
              0.2222222222222222,
              "#7201a8"
             ],
             [
              0.3333333333333333,
              "#9c179e"
             ],
             [
              0.4444444444444444,
              "#bd3786"
             ],
             [
              0.5555555555555556,
              "#d8576b"
             ],
             [
              0.6666666666666666,
              "#ed7953"
             ],
             [
              0.7777777777777778,
              "#fb9f3a"
             ],
             [
              0.8888888888888888,
              "#fdca26"
             ],
             [
              1,
              "#f0f921"
             ]
            ],
            "type": "heatmap"
           }
          ],
          "heatmapgl": [
           {
            "colorbar": {
             "outlinewidth": 0,
             "ticks": ""
            },
            "colorscale": [
             [
              0,
              "#0d0887"
             ],
             [
              0.1111111111111111,
              "#46039f"
             ],
             [
              0.2222222222222222,
              "#7201a8"
             ],
             [
              0.3333333333333333,
              "#9c179e"
             ],
             [
              0.4444444444444444,
              "#bd3786"
             ],
             [
              0.5555555555555556,
              "#d8576b"
             ],
             [
              0.6666666666666666,
              "#ed7953"
             ],
             [
              0.7777777777777778,
              "#fb9f3a"
             ],
             [
              0.8888888888888888,
              "#fdca26"
             ],
             [
              1,
              "#f0f921"
             ]
            ],
            "type": "heatmapgl"
           }
          ],
          "histogram": [
           {
            "marker": {
             "pattern": {
              "fillmode": "overlay",
              "size": 10,
              "solidity": 0.2
             }
            },
            "type": "histogram"
           }
          ],
          "histogram2d": [
           {
            "colorbar": {
             "outlinewidth": 0,
             "ticks": ""
            },
            "colorscale": [
             [
              0,
              "#0d0887"
             ],
             [
              0.1111111111111111,
              "#46039f"
             ],
             [
              0.2222222222222222,
              "#7201a8"
             ],
             [
              0.3333333333333333,
              "#9c179e"
             ],
             [
              0.4444444444444444,
              "#bd3786"
             ],
             [
              0.5555555555555556,
              "#d8576b"
             ],
             [
              0.6666666666666666,
              "#ed7953"
             ],
             [
              0.7777777777777778,
              "#fb9f3a"
             ],
             [
              0.8888888888888888,
              "#fdca26"
             ],
             [
              1,
              "#f0f921"
             ]
            ],
            "type": "histogram2d"
           }
          ],
          "histogram2dcontour": [
           {
            "colorbar": {
             "outlinewidth": 0,
             "ticks": ""
            },
            "colorscale": [
             [
              0,
              "#0d0887"
             ],
             [
              0.1111111111111111,
              "#46039f"
             ],
             [
              0.2222222222222222,
              "#7201a8"
             ],
             [
              0.3333333333333333,
              "#9c179e"
             ],
             [
              0.4444444444444444,
              "#bd3786"
             ],
             [
              0.5555555555555556,
              "#d8576b"
             ],
             [
              0.6666666666666666,
              "#ed7953"
             ],
             [
              0.7777777777777778,
              "#fb9f3a"
             ],
             [
              0.8888888888888888,
              "#fdca26"
             ],
             [
              1,
              "#f0f921"
             ]
            ],
            "type": "histogram2dcontour"
           }
          ],
          "mesh3d": [
           {
            "colorbar": {
             "outlinewidth": 0,
             "ticks": ""
            },
            "type": "mesh3d"
           }
          ],
          "parcoords": [
           {
            "line": {
             "colorbar": {
              "outlinewidth": 0,
              "ticks": ""
             }
            },
            "type": "parcoords"
           }
          ],
          "pie": [
           {
            "automargin": true,
            "type": "pie"
           }
          ],
          "scatter": [
           {
            "marker": {
             "colorbar": {
              "outlinewidth": 0,
              "ticks": ""
             }
            },
            "type": "scatter"
           }
          ],
          "scatter3d": [
           {
            "line": {
             "colorbar": {
              "outlinewidth": 0,
              "ticks": ""
             }
            },
            "marker": {
             "colorbar": {
              "outlinewidth": 0,
              "ticks": ""
             }
            },
            "type": "scatter3d"
           }
          ],
          "scattercarpet": [
           {
            "marker": {
             "colorbar": {
              "outlinewidth": 0,
              "ticks": ""
             }
            },
            "type": "scattercarpet"
           }
          ],
          "scattergeo": [
           {
            "marker": {
             "colorbar": {
              "outlinewidth": 0,
              "ticks": ""
             }
            },
            "type": "scattergeo"
           }
          ],
          "scattergl": [
           {
            "marker": {
             "colorbar": {
              "outlinewidth": 0,
              "ticks": ""
             }
            },
            "type": "scattergl"
           }
          ],
          "scattermapbox": [
           {
            "marker": {
             "colorbar": {
              "outlinewidth": 0,
              "ticks": ""
             }
            },
            "type": "scattermapbox"
           }
          ],
          "scatterpolar": [
           {
            "marker": {
             "colorbar": {
              "outlinewidth": 0,
              "ticks": ""
             }
            },
            "type": "scatterpolar"
           }
          ],
          "scatterpolargl": [
           {
            "marker": {
             "colorbar": {
              "outlinewidth": 0,
              "ticks": ""
             }
            },
            "type": "scatterpolargl"
           }
          ],
          "scatterternary": [
           {
            "marker": {
             "colorbar": {
              "outlinewidth": 0,
              "ticks": ""
             }
            },
            "type": "scatterternary"
           }
          ],
          "surface": [
           {
            "colorbar": {
             "outlinewidth": 0,
             "ticks": ""
            },
            "colorscale": [
             [
              0,
              "#0d0887"
             ],
             [
              0.1111111111111111,
              "#46039f"
             ],
             [
              0.2222222222222222,
              "#7201a8"
             ],
             [
              0.3333333333333333,
              "#9c179e"
             ],
             [
              0.4444444444444444,
              "#bd3786"
             ],
             [
              0.5555555555555556,
              "#d8576b"
             ],
             [
              0.6666666666666666,
              "#ed7953"
             ],
             [
              0.7777777777777778,
              "#fb9f3a"
             ],
             [
              0.8888888888888888,
              "#fdca26"
             ],
             [
              1,
              "#f0f921"
             ]
            ],
            "type": "surface"
           }
          ],
          "table": [
           {
            "cells": {
             "fill": {
              "color": "#EBF0F8"
             },
             "line": {
              "color": "white"
             }
            },
            "header": {
             "fill": {
              "color": "#C8D4E3"
             },
             "line": {
              "color": "white"
             }
            },
            "type": "table"
           }
          ]
         },
         "layout": {
          "annotationdefaults": {
           "arrowcolor": "#2a3f5f",
           "arrowhead": 0,
           "arrowwidth": 1
          },
          "autotypenumbers": "strict",
          "coloraxis": {
           "colorbar": {
            "outlinewidth": 0,
            "ticks": ""
           }
          },
          "colorscale": {
           "diverging": [
            [
             0,
             "#8e0152"
            ],
            [
             0.1,
             "#c51b7d"
            ],
            [
             0.2,
             "#de77ae"
            ],
            [
             0.3,
             "#f1b6da"
            ],
            [
             0.4,
             "#fde0ef"
            ],
            [
             0.5,
             "#f7f7f7"
            ],
            [
             0.6,
             "#e6f5d0"
            ],
            [
             0.7,
             "#b8e186"
            ],
            [
             0.8,
             "#7fbc41"
            ],
            [
             0.9,
             "#4d9221"
            ],
            [
             1,
             "#276419"
            ]
           ],
           "sequential": [
            [
             0,
             "#0d0887"
            ],
            [
             0.1111111111111111,
             "#46039f"
            ],
            [
             0.2222222222222222,
             "#7201a8"
            ],
            [
             0.3333333333333333,
             "#9c179e"
            ],
            [
             0.4444444444444444,
             "#bd3786"
            ],
            [
             0.5555555555555556,
             "#d8576b"
            ],
            [
             0.6666666666666666,
             "#ed7953"
            ],
            [
             0.7777777777777778,
             "#fb9f3a"
            ],
            [
             0.8888888888888888,
             "#fdca26"
            ],
            [
             1,
             "#f0f921"
            ]
           ],
           "sequentialminus": [
            [
             0,
             "#0d0887"
            ],
            [
             0.1111111111111111,
             "#46039f"
            ],
            [
             0.2222222222222222,
             "#7201a8"
            ],
            [
             0.3333333333333333,
             "#9c179e"
            ],
            [
             0.4444444444444444,
             "#bd3786"
            ],
            [
             0.5555555555555556,
             "#d8576b"
            ],
            [
             0.6666666666666666,
             "#ed7953"
            ],
            [
             0.7777777777777778,
             "#fb9f3a"
            ],
            [
             0.8888888888888888,
             "#fdca26"
            ],
            [
             1,
             "#f0f921"
            ]
           ]
          },
          "colorway": [
           "#636efa",
           "#EF553B",
           "#00cc96",
           "#ab63fa",
           "#FFA15A",
           "#19d3f3",
           "#FF6692",
           "#B6E880",
           "#FF97FF",
           "#FECB52"
          ],
          "font": {
           "color": "#2a3f5f"
          },
          "geo": {
           "bgcolor": "white",
           "lakecolor": "white",
           "landcolor": "#E5ECF6",
           "showlakes": true,
           "showland": true,
           "subunitcolor": "white"
          },
          "hoverlabel": {
           "align": "left"
          },
          "hovermode": "closest",
          "mapbox": {
           "style": "light"
          },
          "paper_bgcolor": "white",
          "plot_bgcolor": "#E5ECF6",
          "polar": {
           "angularaxis": {
            "gridcolor": "white",
            "linecolor": "white",
            "ticks": ""
           },
           "bgcolor": "#E5ECF6",
           "radialaxis": {
            "gridcolor": "white",
            "linecolor": "white",
            "ticks": ""
           }
          },
          "scene": {
           "xaxis": {
            "backgroundcolor": "#E5ECF6",
            "gridcolor": "white",
            "gridwidth": 2,
            "linecolor": "white",
            "showbackground": true,
            "ticks": "",
            "zerolinecolor": "white"
           },
           "yaxis": {
            "backgroundcolor": "#E5ECF6",
            "gridcolor": "white",
            "gridwidth": 2,
            "linecolor": "white",
            "showbackground": true,
            "ticks": "",
            "zerolinecolor": "white"
           },
           "zaxis": {
            "backgroundcolor": "#E5ECF6",
            "gridcolor": "white",
            "gridwidth": 2,
            "linecolor": "white",
            "showbackground": true,
            "ticks": "",
            "zerolinecolor": "white"
           }
          },
          "shapedefaults": {
           "line": {
            "color": "#2a3f5f"
           }
          },
          "ternary": {
           "aaxis": {
            "gridcolor": "white",
            "linecolor": "white",
            "ticks": ""
           },
           "baxis": {
            "gridcolor": "white",
            "linecolor": "white",
            "ticks": ""
           },
           "bgcolor": "#E5ECF6",
           "caxis": {
            "gridcolor": "white",
            "linecolor": "white",
            "ticks": ""
           }
          },
          "title": {
           "x": 0.05
          },
          "xaxis": {
           "automargin": true,
           "gridcolor": "white",
           "linecolor": "white",
           "ticks": "",
           "title": {
            "standoff": 15
           },
           "zerolinecolor": "white",
           "zerolinewidth": 2
          },
          "yaxis": {
           "automargin": true,
           "gridcolor": "white",
           "linecolor": "white",
           "ticks": "",
           "title": {
            "standoff": 15
           },
           "zerolinecolor": "white",
           "zerolinewidth": 2
          }
         }
        }
       }
      }
     },
     "metadata": {},
     "output_type": "display_data"
    }
   ],
   "source": [
    "import pandas as pd \n",
    "import plotly.express as px\n",
    "\n",
    "#df=df[['period_begin','state','state_code','property_type','median_sale_price']]\n",
    "#df=df[ (df['property_type']=='Single Family Residential')] \n",
    "#df.rename({'median_sale_price':'Median Sales Price ($)'},axis=1, inplace=True)\n",
    "#df['period_begin'] = pd.to_datetime(df['period_begin']).dt.date.astype(str)\n",
    "#df=df.sort_values(\"period_begin\") # Make sure you sort the time horizon column in ascending order because this column is in random order in the raw dataset\n",
    "\n",
    "fig = px.choropleth(att_ques,\n",
    "                    locations='StateAbbr', \n",
    "                    locationmode=\"USA-states\", \n",
    "                    color='total_notakeclosed',\n",
    "                    #color_continuous_scale=\"Viridis_r\", \n",
    "                    scope=\"usa\")\n",
    "                    ##animation_frame='period_begin') #make sure 'period_begin' is string type and sorted in ascending order\n",
    "\n",
    "fig.show()"
   ]
  },
  {
   "cell_type": "code",
   "execution_count": 34,
   "id": "0547ce19",
   "metadata": {},
   "outputs": [
    {
     "data": {
      "application/vnd.plotly.v1+json": {
       "config": {
        "plotlyServerURL": "https://plot.ly"
       },
       "data": [
        {
         "coloraxis": "coloraxis",
         "geo": "geo",
         "hovertemplate": "StateAbbr=%{location}<br>nottakenbutclosed=%{z}<extra></extra>",
         "locationmode": "USA-states",
         "locations": [
          "AK",
          "AL",
          "AR",
          "AZ",
          "CA",
          "CT",
          "FL",
          "GA",
          "HI",
          "IA",
          "ID",
          "IL",
          "IN",
          "KS",
          "LA",
          "MA",
          "MD",
          "ME",
          "MI",
          "MO",
          "MS",
          "NC",
          "NE",
          "NH",
          "NJ",
          "NM",
          "NY",
          "OK",
          "PA",
          "SC",
          "SD",
          "TN",
          "TX",
          "US",
          "UT",
          "VA",
          "VT",
          "WI",
          "WV",
          "WY"
         ],
         "name": "",
         "type": "choropleth",
         "z": [
          0,
          0,
          0,
          5.538461538461538,
          0,
          0,
          0,
          0,
          0,
          0,
          0,
          0,
          9.640495867768594,
          0,
          0,
          0,
          0,
          0,
          0,
          0,
          0,
          0,
          0,
          0,
          0,
          0,
          0,
          0,
          0,
          0.007692307692307693,
          0,
          0,
          0,
          0,
          0,
          0,
          0,
          0,
          0.005714285714285714,
          0
         ]
        }
       ],
       "layout": {
        "coloraxis": {
         "colorbar": {
          "title": {
           "text": "nottakenbutclosed"
          }
         },
         "colorscale": [
          [
           0,
           "#0d0887"
          ],
          [
           0.1111111111111111,
           "#46039f"
          ],
          [
           0.2222222222222222,
           "#7201a8"
          ],
          [
           0.3333333333333333,
           "#9c179e"
          ],
          [
           0.4444444444444444,
           "#bd3786"
          ],
          [
           0.5555555555555556,
           "#d8576b"
          ],
          [
           0.6666666666666666,
           "#ed7953"
          ],
          [
           0.7777777777777778,
           "#fb9f3a"
          ],
          [
           0.8888888888888888,
           "#fdca26"
          ],
          [
           1,
           "#f0f921"
          ]
         ]
        },
        "geo": {
         "center": {},
         "domain": {
          "x": [
           0,
           1
          ],
          "y": [
           0,
           1
          ]
         },
         "scope": "usa"
        },
        "legend": {
         "tracegroupgap": 0
        },
        "margin": {
         "t": 60
        },
        "template": {
         "data": {
          "bar": [
           {
            "error_x": {
             "color": "#2a3f5f"
            },
            "error_y": {
             "color": "#2a3f5f"
            },
            "marker": {
             "line": {
              "color": "#E5ECF6",
              "width": 0.5
             },
             "pattern": {
              "fillmode": "overlay",
              "size": 10,
              "solidity": 0.2
             }
            },
            "type": "bar"
           }
          ],
          "barpolar": [
           {
            "marker": {
             "line": {
              "color": "#E5ECF6",
              "width": 0.5
             },
             "pattern": {
              "fillmode": "overlay",
              "size": 10,
              "solidity": 0.2
             }
            },
            "type": "barpolar"
           }
          ],
          "carpet": [
           {
            "aaxis": {
             "endlinecolor": "#2a3f5f",
             "gridcolor": "white",
             "linecolor": "white",
             "minorgridcolor": "white",
             "startlinecolor": "#2a3f5f"
            },
            "baxis": {
             "endlinecolor": "#2a3f5f",
             "gridcolor": "white",
             "linecolor": "white",
             "minorgridcolor": "white",
             "startlinecolor": "#2a3f5f"
            },
            "type": "carpet"
           }
          ],
          "choropleth": [
           {
            "colorbar": {
             "outlinewidth": 0,
             "ticks": ""
            },
            "type": "choropleth"
           }
          ],
          "contour": [
           {
            "colorbar": {
             "outlinewidth": 0,
             "ticks": ""
            },
            "colorscale": [
             [
              0,
              "#0d0887"
             ],
             [
              0.1111111111111111,
              "#46039f"
             ],
             [
              0.2222222222222222,
              "#7201a8"
             ],
             [
              0.3333333333333333,
              "#9c179e"
             ],
             [
              0.4444444444444444,
              "#bd3786"
             ],
             [
              0.5555555555555556,
              "#d8576b"
             ],
             [
              0.6666666666666666,
              "#ed7953"
             ],
             [
              0.7777777777777778,
              "#fb9f3a"
             ],
             [
              0.8888888888888888,
              "#fdca26"
             ],
             [
              1,
              "#f0f921"
             ]
            ],
            "type": "contour"
           }
          ],
          "contourcarpet": [
           {
            "colorbar": {
             "outlinewidth": 0,
             "ticks": ""
            },
            "type": "contourcarpet"
           }
          ],
          "heatmap": [
           {
            "colorbar": {
             "outlinewidth": 0,
             "ticks": ""
            },
            "colorscale": [
             [
              0,
              "#0d0887"
             ],
             [
              0.1111111111111111,
              "#46039f"
             ],
             [
              0.2222222222222222,
              "#7201a8"
             ],
             [
              0.3333333333333333,
              "#9c179e"
             ],
             [
              0.4444444444444444,
              "#bd3786"
             ],
             [
              0.5555555555555556,
              "#d8576b"
             ],
             [
              0.6666666666666666,
              "#ed7953"
             ],
             [
              0.7777777777777778,
              "#fb9f3a"
             ],
             [
              0.8888888888888888,
              "#fdca26"
             ],
             [
              1,
              "#f0f921"
             ]
            ],
            "type": "heatmap"
           }
          ],
          "heatmapgl": [
           {
            "colorbar": {
             "outlinewidth": 0,
             "ticks": ""
            },
            "colorscale": [
             [
              0,
              "#0d0887"
             ],
             [
              0.1111111111111111,
              "#46039f"
             ],
             [
              0.2222222222222222,
              "#7201a8"
             ],
             [
              0.3333333333333333,
              "#9c179e"
             ],
             [
              0.4444444444444444,
              "#bd3786"
             ],
             [
              0.5555555555555556,
              "#d8576b"
             ],
             [
              0.6666666666666666,
              "#ed7953"
             ],
             [
              0.7777777777777778,
              "#fb9f3a"
             ],
             [
              0.8888888888888888,
              "#fdca26"
             ],
             [
              1,
              "#f0f921"
             ]
            ],
            "type": "heatmapgl"
           }
          ],
          "histogram": [
           {
            "marker": {
             "pattern": {
              "fillmode": "overlay",
              "size": 10,
              "solidity": 0.2
             }
            },
            "type": "histogram"
           }
          ],
          "histogram2d": [
           {
            "colorbar": {
             "outlinewidth": 0,
             "ticks": ""
            },
            "colorscale": [
             [
              0,
              "#0d0887"
             ],
             [
              0.1111111111111111,
              "#46039f"
             ],
             [
              0.2222222222222222,
              "#7201a8"
             ],
             [
              0.3333333333333333,
              "#9c179e"
             ],
             [
              0.4444444444444444,
              "#bd3786"
             ],
             [
              0.5555555555555556,
              "#d8576b"
             ],
             [
              0.6666666666666666,
              "#ed7953"
             ],
             [
              0.7777777777777778,
              "#fb9f3a"
             ],
             [
              0.8888888888888888,
              "#fdca26"
             ],
             [
              1,
              "#f0f921"
             ]
            ],
            "type": "histogram2d"
           }
          ],
          "histogram2dcontour": [
           {
            "colorbar": {
             "outlinewidth": 0,
             "ticks": ""
            },
            "colorscale": [
             [
              0,
              "#0d0887"
             ],
             [
              0.1111111111111111,
              "#46039f"
             ],
             [
              0.2222222222222222,
              "#7201a8"
             ],
             [
              0.3333333333333333,
              "#9c179e"
             ],
             [
              0.4444444444444444,
              "#bd3786"
             ],
             [
              0.5555555555555556,
              "#d8576b"
             ],
             [
              0.6666666666666666,
              "#ed7953"
             ],
             [
              0.7777777777777778,
              "#fb9f3a"
             ],
             [
              0.8888888888888888,
              "#fdca26"
             ],
             [
              1,
              "#f0f921"
             ]
            ],
            "type": "histogram2dcontour"
           }
          ],
          "mesh3d": [
           {
            "colorbar": {
             "outlinewidth": 0,
             "ticks": ""
            },
            "type": "mesh3d"
           }
          ],
          "parcoords": [
           {
            "line": {
             "colorbar": {
              "outlinewidth": 0,
              "ticks": ""
             }
            },
            "type": "parcoords"
           }
          ],
          "pie": [
           {
            "automargin": true,
            "type": "pie"
           }
          ],
          "scatter": [
           {
            "marker": {
             "colorbar": {
              "outlinewidth": 0,
              "ticks": ""
             }
            },
            "type": "scatter"
           }
          ],
          "scatter3d": [
           {
            "line": {
             "colorbar": {
              "outlinewidth": 0,
              "ticks": ""
             }
            },
            "marker": {
             "colorbar": {
              "outlinewidth": 0,
              "ticks": ""
             }
            },
            "type": "scatter3d"
           }
          ],
          "scattercarpet": [
           {
            "marker": {
             "colorbar": {
              "outlinewidth": 0,
              "ticks": ""
             }
            },
            "type": "scattercarpet"
           }
          ],
          "scattergeo": [
           {
            "marker": {
             "colorbar": {
              "outlinewidth": 0,
              "ticks": ""
             }
            },
            "type": "scattergeo"
           }
          ],
          "scattergl": [
           {
            "marker": {
             "colorbar": {
              "outlinewidth": 0,
              "ticks": ""
             }
            },
            "type": "scattergl"
           }
          ],
          "scattermapbox": [
           {
            "marker": {
             "colorbar": {
              "outlinewidth": 0,
              "ticks": ""
             }
            },
            "type": "scattermapbox"
           }
          ],
          "scatterpolar": [
           {
            "marker": {
             "colorbar": {
              "outlinewidth": 0,
              "ticks": ""
             }
            },
            "type": "scatterpolar"
           }
          ],
          "scatterpolargl": [
           {
            "marker": {
             "colorbar": {
              "outlinewidth": 0,
              "ticks": ""
             }
            },
            "type": "scatterpolargl"
           }
          ],
          "scatterternary": [
           {
            "marker": {
             "colorbar": {
              "outlinewidth": 0,
              "ticks": ""
             }
            },
            "type": "scatterternary"
           }
          ],
          "surface": [
           {
            "colorbar": {
             "outlinewidth": 0,
             "ticks": ""
            },
            "colorscale": [
             [
              0,
              "#0d0887"
             ],
             [
              0.1111111111111111,
              "#46039f"
             ],
             [
              0.2222222222222222,
              "#7201a8"
             ],
             [
              0.3333333333333333,
              "#9c179e"
             ],
             [
              0.4444444444444444,
              "#bd3786"
             ],
             [
              0.5555555555555556,
              "#d8576b"
             ],
             [
              0.6666666666666666,
              "#ed7953"
             ],
             [
              0.7777777777777778,
              "#fb9f3a"
             ],
             [
              0.8888888888888888,
              "#fdca26"
             ],
             [
              1,
              "#f0f921"
             ]
            ],
            "type": "surface"
           }
          ],
          "table": [
           {
            "cells": {
             "fill": {
              "color": "#EBF0F8"
             },
             "line": {
              "color": "white"
             }
            },
            "header": {
             "fill": {
              "color": "#C8D4E3"
             },
             "line": {
              "color": "white"
             }
            },
            "type": "table"
           }
          ]
         },
         "layout": {
          "annotationdefaults": {
           "arrowcolor": "#2a3f5f",
           "arrowhead": 0,
           "arrowwidth": 1
          },
          "autotypenumbers": "strict",
          "coloraxis": {
           "colorbar": {
            "outlinewidth": 0,
            "ticks": ""
           }
          },
          "colorscale": {
           "diverging": [
            [
             0,
             "#8e0152"
            ],
            [
             0.1,
             "#c51b7d"
            ],
            [
             0.2,
             "#de77ae"
            ],
            [
             0.3,
             "#f1b6da"
            ],
            [
             0.4,
             "#fde0ef"
            ],
            [
             0.5,
             "#f7f7f7"
            ],
            [
             0.6,
             "#e6f5d0"
            ],
            [
             0.7,
             "#b8e186"
            ],
            [
             0.8,
             "#7fbc41"
            ],
            [
             0.9,
             "#4d9221"
            ],
            [
             1,
             "#276419"
            ]
           ],
           "sequential": [
            [
             0,
             "#0d0887"
            ],
            [
             0.1111111111111111,
             "#46039f"
            ],
            [
             0.2222222222222222,
             "#7201a8"
            ],
            [
             0.3333333333333333,
             "#9c179e"
            ],
            [
             0.4444444444444444,
             "#bd3786"
            ],
            [
             0.5555555555555556,
             "#d8576b"
            ],
            [
             0.6666666666666666,
             "#ed7953"
            ],
            [
             0.7777777777777778,
             "#fb9f3a"
            ],
            [
             0.8888888888888888,
             "#fdca26"
            ],
            [
             1,
             "#f0f921"
            ]
           ],
           "sequentialminus": [
            [
             0,
             "#0d0887"
            ],
            [
             0.1111111111111111,
             "#46039f"
            ],
            [
             0.2222222222222222,
             "#7201a8"
            ],
            [
             0.3333333333333333,
             "#9c179e"
            ],
            [
             0.4444444444444444,
             "#bd3786"
            ],
            [
             0.5555555555555556,
             "#d8576b"
            ],
            [
             0.6666666666666666,
             "#ed7953"
            ],
            [
             0.7777777777777778,
             "#fb9f3a"
            ],
            [
             0.8888888888888888,
             "#fdca26"
            ],
            [
             1,
             "#f0f921"
            ]
           ]
          },
          "colorway": [
           "#636efa",
           "#EF553B",
           "#00cc96",
           "#ab63fa",
           "#FFA15A",
           "#19d3f3",
           "#FF6692",
           "#B6E880",
           "#FF97FF",
           "#FECB52"
          ],
          "font": {
           "color": "#2a3f5f"
          },
          "geo": {
           "bgcolor": "white",
           "lakecolor": "white",
           "landcolor": "#E5ECF6",
           "showlakes": true,
           "showland": true,
           "subunitcolor": "white"
          },
          "hoverlabel": {
           "align": "left"
          },
          "hovermode": "closest",
          "mapbox": {
           "style": "light"
          },
          "paper_bgcolor": "white",
          "plot_bgcolor": "#E5ECF6",
          "polar": {
           "angularaxis": {
            "gridcolor": "white",
            "linecolor": "white",
            "ticks": ""
           },
           "bgcolor": "#E5ECF6",
           "radialaxis": {
            "gridcolor": "white",
            "linecolor": "white",
            "ticks": ""
           }
          },
          "scene": {
           "xaxis": {
            "backgroundcolor": "#E5ECF6",
            "gridcolor": "white",
            "gridwidth": 2,
            "linecolor": "white",
            "showbackground": true,
            "ticks": "",
            "zerolinecolor": "white"
           },
           "yaxis": {
            "backgroundcolor": "#E5ECF6",
            "gridcolor": "white",
            "gridwidth": 2,
            "linecolor": "white",
            "showbackground": true,
            "ticks": "",
            "zerolinecolor": "white"
           },
           "zaxis": {
            "backgroundcolor": "#E5ECF6",
            "gridcolor": "white",
            "gridwidth": 2,
            "linecolor": "white",
            "showbackground": true,
            "ticks": "",
            "zerolinecolor": "white"
           }
          },
          "shapedefaults": {
           "line": {
            "color": "#2a3f5f"
           }
          },
          "ternary": {
           "aaxis": {
            "gridcolor": "white",
            "linecolor": "white",
            "ticks": ""
           },
           "baxis": {
            "gridcolor": "white",
            "linecolor": "white",
            "ticks": ""
           },
           "bgcolor": "#E5ECF6",
           "caxis": {
            "gridcolor": "white",
            "linecolor": "white",
            "ticks": ""
           }
          },
          "title": {
           "x": 0.05
          },
          "xaxis": {
           "automargin": true,
           "gridcolor": "white",
           "linecolor": "white",
           "ticks": "",
           "title": {
            "standoff": 15
           },
           "zerolinecolor": "white",
           "zerolinewidth": 2
          },
          "yaxis": {
           "automargin": true,
           "gridcolor": "white",
           "linecolor": "white",
           "ticks": "",
           "title": {
            "standoff": 15
           },
           "zerolinecolor": "white",
           "zerolinewidth": 2
          }
         }
        }
       }
      }
     },
     "metadata": {},
     "output_type": "display_data"
    }
   ],
   "source": [
    "import pandas as pd \n",
    "import plotly.express as px\n",
    "\n",
    "#df=df[['period_begin','state','state_code','property_type','median_sale_price']]\n",
    "#df=df[ (df['property_type']=='Single Family Residential')] \n",
    "#df.rename({'median_sale_price':'Median Sales Price ($)'},axis=1, inplace=True)\n",
    "#df['period_begin'] = pd.to_datetime(df['period_begin']).dt.date.astype(str)\n",
    "#df=df.sort_values(\"period_begin\") # Make sure you sort the time horizon column in ascending order because this column is in random order in the raw dataset\n",
    "\n",
    "fig = px.choropleth(att_ques,\n",
    "                    locations='StateAbbr', \n",
    "                    locationmode=\"USA-states\", \n",
    "                    color='nottakenbutclosed',\n",
    "                    #color_continuous_scale=\"Viridis_r\", \n",
    "                    scope=\"usa\")\n",
    "                    ##animation_frame='period_begin') #make sure 'period_begin' is string type and sorted in ascending order\n",
    "\n",
    "fig.show()"
   ]
  },
  {
   "cell_type": "code",
   "execution_count": 21,
   "id": "5e5783e6",
   "metadata": {},
   "outputs": [
    {
     "data": {
      "application/vnd.plotly.v1+json": {
       "config": {
        "plotlyServerURL": "https://plot.ly"
       },
       "data": [
        {
         "coloraxis": "coloraxis",
         "geo": "geo",
         "hovertemplate": "StateAbbr=%{location}<br>ques_attorney=%{z}<extra></extra>",
         "locationmode": "USA-states",
         "locations": [
          "AK",
          "AL",
          "AR",
          "AZ",
          "CA",
          "CT",
          "FL",
          "GA",
          "HI",
          "IA",
          "ID",
          "IL",
          "IN",
          "KS",
          "LA",
          "MA",
          "MD",
          "ME",
          "MI",
          "MO",
          "MS",
          "NC",
          "NE",
          "NH",
          "NJ",
          "NM",
          "NY",
          "OK",
          "PA",
          "SC",
          "SD",
          "TN",
          "TX",
          "US",
          "UT",
          "VA",
          "VT",
          "WI",
          "WV",
          "WY"
         ],
         "name": "",
         "type": "choropleth",
         "z": [
          7.836363636363636,
          6.144927536231884,
          12.6875,
          52.45192307692308,
          9.485714285714286,
          11.359223300970873,
          18.0090661831369,
          24.698051948051948,
          17.096,
          27.776119402985074,
          0.5,
          14.116349047141425,
          42.90702479338843,
          16.6,
          15.544715447154472,
          16.536585365853657,
          9.885496183206106,
          17.65284974093264,
          6.675324675324675,
          28.742857142857144,
          10.876811594202898,
          9.624801271860095,
          12.345864661654135,
          11.739837398373984,
          10.378378378378379,
          10.287234042553191,
          11.785714285714286,
          32.65868263473054,
          7.071428571428571,
          54.61153846153846,
          43.30769230769231,
          10.894787644787645,
          18.62280701754386,
          3.4269662921348316,
          19.298969072164947,
          10.574468085106384,
          19.90740740740741,
          19.392207792207792,
          19.12,
          26.193548387096776
         ]
        }
       ],
       "layout": {
        "coloraxis": {
         "colorbar": {
          "title": {
           "text": "ques_attorney"
          }
         },
         "colorscale": [
          [
           0,
           "#0d0887"
          ],
          [
           0.1111111111111111,
           "#46039f"
          ],
          [
           0.2222222222222222,
           "#7201a8"
          ],
          [
           0.3333333333333333,
           "#9c179e"
          ],
          [
           0.4444444444444444,
           "#bd3786"
          ],
          [
           0.5555555555555556,
           "#d8576b"
          ],
          [
           0.6666666666666666,
           "#ed7953"
          ],
          [
           0.7777777777777778,
           "#fb9f3a"
          ],
          [
           0.8888888888888888,
           "#fdca26"
          ],
          [
           1,
           "#f0f921"
          ]
         ]
        },
        "geo": {
         "center": {},
         "domain": {
          "x": [
           0,
           1
          ],
          "y": [
           0,
           1
          ]
         },
         "scope": "usa"
        },
        "legend": {
         "tracegroupgap": 0
        },
        "margin": {
         "t": 60
        },
        "template": {
         "data": {
          "bar": [
           {
            "error_x": {
             "color": "#2a3f5f"
            },
            "error_y": {
             "color": "#2a3f5f"
            },
            "marker": {
             "line": {
              "color": "#E5ECF6",
              "width": 0.5
             },
             "pattern": {
              "fillmode": "overlay",
              "size": 10,
              "solidity": 0.2
             }
            },
            "type": "bar"
           }
          ],
          "barpolar": [
           {
            "marker": {
             "line": {
              "color": "#E5ECF6",
              "width": 0.5
             },
             "pattern": {
              "fillmode": "overlay",
              "size": 10,
              "solidity": 0.2
             }
            },
            "type": "barpolar"
           }
          ],
          "carpet": [
           {
            "aaxis": {
             "endlinecolor": "#2a3f5f",
             "gridcolor": "white",
             "linecolor": "white",
             "minorgridcolor": "white",
             "startlinecolor": "#2a3f5f"
            },
            "baxis": {
             "endlinecolor": "#2a3f5f",
             "gridcolor": "white",
             "linecolor": "white",
             "minorgridcolor": "white",
             "startlinecolor": "#2a3f5f"
            },
            "type": "carpet"
           }
          ],
          "choropleth": [
           {
            "colorbar": {
             "outlinewidth": 0,
             "ticks": ""
            },
            "type": "choropleth"
           }
          ],
          "contour": [
           {
            "colorbar": {
             "outlinewidth": 0,
             "ticks": ""
            },
            "colorscale": [
             [
              0,
              "#0d0887"
             ],
             [
              0.1111111111111111,
              "#46039f"
             ],
             [
              0.2222222222222222,
              "#7201a8"
             ],
             [
              0.3333333333333333,
              "#9c179e"
             ],
             [
              0.4444444444444444,
              "#bd3786"
             ],
             [
              0.5555555555555556,
              "#d8576b"
             ],
             [
              0.6666666666666666,
              "#ed7953"
             ],
             [
              0.7777777777777778,
              "#fb9f3a"
             ],
             [
              0.8888888888888888,
              "#fdca26"
             ],
             [
              1,
              "#f0f921"
             ]
            ],
            "type": "contour"
           }
          ],
          "contourcarpet": [
           {
            "colorbar": {
             "outlinewidth": 0,
             "ticks": ""
            },
            "type": "contourcarpet"
           }
          ],
          "heatmap": [
           {
            "colorbar": {
             "outlinewidth": 0,
             "ticks": ""
            },
            "colorscale": [
             [
              0,
              "#0d0887"
             ],
             [
              0.1111111111111111,
              "#46039f"
             ],
             [
              0.2222222222222222,
              "#7201a8"
             ],
             [
              0.3333333333333333,
              "#9c179e"
             ],
             [
              0.4444444444444444,
              "#bd3786"
             ],
             [
              0.5555555555555556,
              "#d8576b"
             ],
             [
              0.6666666666666666,
              "#ed7953"
             ],
             [
              0.7777777777777778,
              "#fb9f3a"
             ],
             [
              0.8888888888888888,
              "#fdca26"
             ],
             [
              1,
              "#f0f921"
             ]
            ],
            "type": "heatmap"
           }
          ],
          "heatmapgl": [
           {
            "colorbar": {
             "outlinewidth": 0,
             "ticks": ""
            },
            "colorscale": [
             [
              0,
              "#0d0887"
             ],
             [
              0.1111111111111111,
              "#46039f"
             ],
             [
              0.2222222222222222,
              "#7201a8"
             ],
             [
              0.3333333333333333,
              "#9c179e"
             ],
             [
              0.4444444444444444,
              "#bd3786"
             ],
             [
              0.5555555555555556,
              "#d8576b"
             ],
             [
              0.6666666666666666,
              "#ed7953"
             ],
             [
              0.7777777777777778,
              "#fb9f3a"
             ],
             [
              0.8888888888888888,
              "#fdca26"
             ],
             [
              1,
              "#f0f921"
             ]
            ],
            "type": "heatmapgl"
           }
          ],
          "histogram": [
           {
            "marker": {
             "pattern": {
              "fillmode": "overlay",
              "size": 10,
              "solidity": 0.2
             }
            },
            "type": "histogram"
           }
          ],
          "histogram2d": [
           {
            "colorbar": {
             "outlinewidth": 0,
             "ticks": ""
            },
            "colorscale": [
             [
              0,
              "#0d0887"
             ],
             [
              0.1111111111111111,
              "#46039f"
             ],
             [
              0.2222222222222222,
              "#7201a8"
             ],
             [
              0.3333333333333333,
              "#9c179e"
             ],
             [
              0.4444444444444444,
              "#bd3786"
             ],
             [
              0.5555555555555556,
              "#d8576b"
             ],
             [
              0.6666666666666666,
              "#ed7953"
             ],
             [
              0.7777777777777778,
              "#fb9f3a"
             ],
             [
              0.8888888888888888,
              "#fdca26"
             ],
             [
              1,
              "#f0f921"
             ]
            ],
            "type": "histogram2d"
           }
          ],
          "histogram2dcontour": [
           {
            "colorbar": {
             "outlinewidth": 0,
             "ticks": ""
            },
            "colorscale": [
             [
              0,
              "#0d0887"
             ],
             [
              0.1111111111111111,
              "#46039f"
             ],
             [
              0.2222222222222222,
              "#7201a8"
             ],
             [
              0.3333333333333333,
              "#9c179e"
             ],
             [
              0.4444444444444444,
              "#bd3786"
             ],
             [
              0.5555555555555556,
              "#d8576b"
             ],
             [
              0.6666666666666666,
              "#ed7953"
             ],
             [
              0.7777777777777778,
              "#fb9f3a"
             ],
             [
              0.8888888888888888,
              "#fdca26"
             ],
             [
              1,
              "#f0f921"
             ]
            ],
            "type": "histogram2dcontour"
           }
          ],
          "mesh3d": [
           {
            "colorbar": {
             "outlinewidth": 0,
             "ticks": ""
            },
            "type": "mesh3d"
           }
          ],
          "parcoords": [
           {
            "line": {
             "colorbar": {
              "outlinewidth": 0,
              "ticks": ""
             }
            },
            "type": "parcoords"
           }
          ],
          "pie": [
           {
            "automargin": true,
            "type": "pie"
           }
          ],
          "scatter": [
           {
            "marker": {
             "colorbar": {
              "outlinewidth": 0,
              "ticks": ""
             }
            },
            "type": "scatter"
           }
          ],
          "scatter3d": [
           {
            "line": {
             "colorbar": {
              "outlinewidth": 0,
              "ticks": ""
             }
            },
            "marker": {
             "colorbar": {
              "outlinewidth": 0,
              "ticks": ""
             }
            },
            "type": "scatter3d"
           }
          ],
          "scattercarpet": [
           {
            "marker": {
             "colorbar": {
              "outlinewidth": 0,
              "ticks": ""
             }
            },
            "type": "scattercarpet"
           }
          ],
          "scattergeo": [
           {
            "marker": {
             "colorbar": {
              "outlinewidth": 0,
              "ticks": ""
             }
            },
            "type": "scattergeo"
           }
          ],
          "scattergl": [
           {
            "marker": {
             "colorbar": {
              "outlinewidth": 0,
              "ticks": ""
             }
            },
            "type": "scattergl"
           }
          ],
          "scattermapbox": [
           {
            "marker": {
             "colorbar": {
              "outlinewidth": 0,
              "ticks": ""
             }
            },
            "type": "scattermapbox"
           }
          ],
          "scatterpolar": [
           {
            "marker": {
             "colorbar": {
              "outlinewidth": 0,
              "ticks": ""
             }
            },
            "type": "scatterpolar"
           }
          ],
          "scatterpolargl": [
           {
            "marker": {
             "colorbar": {
              "outlinewidth": 0,
              "ticks": ""
             }
            },
            "type": "scatterpolargl"
           }
          ],
          "scatterternary": [
           {
            "marker": {
             "colorbar": {
              "outlinewidth": 0,
              "ticks": ""
             }
            },
            "type": "scatterternary"
           }
          ],
          "surface": [
           {
            "colorbar": {
             "outlinewidth": 0,
             "ticks": ""
            },
            "colorscale": [
             [
              0,
              "#0d0887"
             ],
             [
              0.1111111111111111,
              "#46039f"
             ],
             [
              0.2222222222222222,
              "#7201a8"
             ],
             [
              0.3333333333333333,
              "#9c179e"
             ],
             [
              0.4444444444444444,
              "#bd3786"
             ],
             [
              0.5555555555555556,
              "#d8576b"
             ],
             [
              0.6666666666666666,
              "#ed7953"
             ],
             [
              0.7777777777777778,
              "#fb9f3a"
             ],
             [
              0.8888888888888888,
              "#fdca26"
             ],
             [
              1,
              "#f0f921"
             ]
            ],
            "type": "surface"
           }
          ],
          "table": [
           {
            "cells": {
             "fill": {
              "color": "#EBF0F8"
             },
             "line": {
              "color": "white"
             }
            },
            "header": {
             "fill": {
              "color": "#C8D4E3"
             },
             "line": {
              "color": "white"
             }
            },
            "type": "table"
           }
          ]
         },
         "layout": {
          "annotationdefaults": {
           "arrowcolor": "#2a3f5f",
           "arrowhead": 0,
           "arrowwidth": 1
          },
          "autotypenumbers": "strict",
          "coloraxis": {
           "colorbar": {
            "outlinewidth": 0,
            "ticks": ""
           }
          },
          "colorscale": {
           "diverging": [
            [
             0,
             "#8e0152"
            ],
            [
             0.1,
             "#c51b7d"
            ],
            [
             0.2,
             "#de77ae"
            ],
            [
             0.3,
             "#f1b6da"
            ],
            [
             0.4,
             "#fde0ef"
            ],
            [
             0.5,
             "#f7f7f7"
            ],
            [
             0.6,
             "#e6f5d0"
            ],
            [
             0.7,
             "#b8e186"
            ],
            [
             0.8,
             "#7fbc41"
            ],
            [
             0.9,
             "#4d9221"
            ],
            [
             1,
             "#276419"
            ]
           ],
           "sequential": [
            [
             0,
             "#0d0887"
            ],
            [
             0.1111111111111111,
             "#46039f"
            ],
            [
             0.2222222222222222,
             "#7201a8"
            ],
            [
             0.3333333333333333,
             "#9c179e"
            ],
            [
             0.4444444444444444,
             "#bd3786"
            ],
            [
             0.5555555555555556,
             "#d8576b"
            ],
            [
             0.6666666666666666,
             "#ed7953"
            ],
            [
             0.7777777777777778,
             "#fb9f3a"
            ],
            [
             0.8888888888888888,
             "#fdca26"
            ],
            [
             1,
             "#f0f921"
            ]
           ],
           "sequentialminus": [
            [
             0,
             "#0d0887"
            ],
            [
             0.1111111111111111,
             "#46039f"
            ],
            [
             0.2222222222222222,
             "#7201a8"
            ],
            [
             0.3333333333333333,
             "#9c179e"
            ],
            [
             0.4444444444444444,
             "#bd3786"
            ],
            [
             0.5555555555555556,
             "#d8576b"
            ],
            [
             0.6666666666666666,
             "#ed7953"
            ],
            [
             0.7777777777777778,
             "#fb9f3a"
            ],
            [
             0.8888888888888888,
             "#fdca26"
            ],
            [
             1,
             "#f0f921"
            ]
           ]
          },
          "colorway": [
           "#636efa",
           "#EF553B",
           "#00cc96",
           "#ab63fa",
           "#FFA15A",
           "#19d3f3",
           "#FF6692",
           "#B6E880",
           "#FF97FF",
           "#FECB52"
          ],
          "font": {
           "color": "#2a3f5f"
          },
          "geo": {
           "bgcolor": "white",
           "lakecolor": "white",
           "landcolor": "#E5ECF6",
           "showlakes": true,
           "showland": true,
           "subunitcolor": "white"
          },
          "hoverlabel": {
           "align": "left"
          },
          "hovermode": "closest",
          "mapbox": {
           "style": "light"
          },
          "paper_bgcolor": "white",
          "plot_bgcolor": "#E5ECF6",
          "polar": {
           "angularaxis": {
            "gridcolor": "white",
            "linecolor": "white",
            "ticks": ""
           },
           "bgcolor": "#E5ECF6",
           "radialaxis": {
            "gridcolor": "white",
            "linecolor": "white",
            "ticks": ""
           }
          },
          "scene": {
           "xaxis": {
            "backgroundcolor": "#E5ECF6",
            "gridcolor": "white",
            "gridwidth": 2,
            "linecolor": "white",
            "showbackground": true,
            "ticks": "",
            "zerolinecolor": "white"
           },
           "yaxis": {
            "backgroundcolor": "#E5ECF6",
            "gridcolor": "white",
            "gridwidth": 2,
            "linecolor": "white",
            "showbackground": true,
            "ticks": "",
            "zerolinecolor": "white"
           },
           "zaxis": {
            "backgroundcolor": "#E5ECF6",
            "gridcolor": "white",
            "gridwidth": 2,
            "linecolor": "white",
            "showbackground": true,
            "ticks": "",
            "zerolinecolor": "white"
           }
          },
          "shapedefaults": {
           "line": {
            "color": "#2a3f5f"
           }
          },
          "ternary": {
           "aaxis": {
            "gridcolor": "white",
            "linecolor": "white",
            "ticks": ""
           },
           "baxis": {
            "gridcolor": "white",
            "linecolor": "white",
            "ticks": ""
           },
           "bgcolor": "#E5ECF6",
           "caxis": {
            "gridcolor": "white",
            "linecolor": "white",
            "ticks": ""
           }
          },
          "title": {
           "x": 0.05
          },
          "xaxis": {
           "automargin": true,
           "gridcolor": "white",
           "linecolor": "white",
           "ticks": "",
           "title": {
            "standoff": 15
           },
           "zerolinecolor": "white",
           "zerolinewidth": 2
          },
          "yaxis": {
           "automargin": true,
           "gridcolor": "white",
           "linecolor": "white",
           "ticks": "",
           "title": {
            "standoff": 15
           },
           "zerolinecolor": "white",
           "zerolinewidth": 2
          }
         }
        }
       }
      }
     },
     "metadata": {},
     "output_type": "display_data"
    }
   ],
   "source": [
    "import pandas as pd \n",
    "import plotly.express as px\n",
    "\n",
    "#df=df[['period_begin','state','state_code','property_type','median_sale_price']]\n",
    "#df=df[ (df['property_type']=='Single Family Residential')] \n",
    "#df.rename({'median_sale_price':'Median Sales Price ($)'},axis=1, inplace=True)\n",
    "#df['period_begin'] = pd.to_datetime(df['period_begin']).dt.date.astype(str)\n",
    "#df=df.sort_values(\"period_begin\") # Make sure you sort the time horizon column in ascending order because this column is in random order in the raw dataset\n",
    "\n",
    "fig = px.choropleth(att_ques,\n",
    "                    locations='StateAbbr', \n",
    "                    locationmode=\"USA-states\", \n",
    "                    color='ques_attorney',\n",
    "                    #color_continuous_scale=\"Viridis_r\", \n",
    "                    scope=\"usa\")\n",
    "                    ##animation_frame='period_begin') #make sure 'period_begin' is string type and sorted in ascending order\n",
    "\n",
    "fig.show()"
   ]
  },
  {
   "cell_type": "code",
   "execution_count": 12,
   "id": "7d1b4834",
   "metadata": {},
   "outputs": [
    {
     "data": {
      "application/vnd.plotly.v1+json": {
       "config": {
        "plotlyServerURL": "https://plot.ly"
       },
       "data": [
        {
         "coloraxis": "coloraxis",
         "geo": "geo",
         "hovertemplate": "StateAbbr=%{location}<br>take_attorney_number=%{z}<extra></extra>",
         "locationmode": "USA-states",
         "locations": [
          "AK",
          "AL",
          "AR",
          "AZ",
          "CA",
          "CT",
          "FL",
          "GA",
          "HI",
          "IA",
          "ID",
          "IL",
          "IN",
          "KS",
          "LA",
          "MA",
          "MD",
          "ME",
          "MI",
          "MO",
          "MS",
          "NC",
          "NE",
          "NH",
          "NJ",
          "NM",
          "NY",
          "OK",
          "PA",
          "SC",
          "SD",
          "TN",
          "TX",
          "US",
          "UT",
          "VA",
          "VT",
          "WI",
          "WV",
          "WY"
         ],
         "name": "",
         "type": "choropleth",
         "z": [
          4.536363636363636,
          4.1521739130434785,
          10.276041666666666,
          12.903846153846153,
          4.416326530612245,
          7.504854368932039,
          15.58658204895739,
          5.042207792207792,
          12.456,
          11.791044776119403,
          0,
          10.769307923771313,
          19.958677685950413,
          4.033333333333333,
          12.727642276422765,
          13.033771106941838,
          6.293893129770993,
          14.880829015544041,
          4.441558441558442,
          25.066666666666666,
          7.108695652173913,
          7.998410174880763,
          9.229323308270677,
          9.130081300813009,
          8.18918918918919,
          8.372340425531915,
          10.338235294117647,
          21.580838323353294,
          1.2857142857142858,
          43.38461538461539,
          40.34615384615385,
          9.957528957528957,
          11.264035087719298,
          1.3146067415730338,
          16.010309278350515,
          9.661508704061896,
          13.444444444444445,
          17.545454545454547,
          15.371428571428572,
          21.93548387096774
         ]
        }
       ],
       "layout": {
        "coloraxis": {
         "colorbar": {
          "title": {
           "text": "take_attorney_number"
          }
         },
         "colorscale": [
          [
           0,
           "#0d0887"
          ],
          [
           0.1111111111111111,
           "#46039f"
          ],
          [
           0.2222222222222222,
           "#7201a8"
          ],
          [
           0.3333333333333333,
           "#9c179e"
          ],
          [
           0.4444444444444444,
           "#bd3786"
          ],
          [
           0.5555555555555556,
           "#d8576b"
          ],
          [
           0.6666666666666666,
           "#ed7953"
          ],
          [
           0.7777777777777778,
           "#fb9f3a"
          ],
          [
           0.8888888888888888,
           "#fdca26"
          ],
          [
           1,
           "#f0f921"
          ]
         ]
        },
        "geo": {
         "center": {},
         "domain": {
          "x": [
           0,
           1
          ],
          "y": [
           0,
           1
          ]
         },
         "scope": "usa"
        },
        "legend": {
         "tracegroupgap": 0
        },
        "margin": {
         "t": 60
        },
        "template": {
         "data": {
          "bar": [
           {
            "error_x": {
             "color": "#2a3f5f"
            },
            "error_y": {
             "color": "#2a3f5f"
            },
            "marker": {
             "line": {
              "color": "#E5ECF6",
              "width": 0.5
             },
             "pattern": {
              "fillmode": "overlay",
              "size": 10,
              "solidity": 0.2
             }
            },
            "type": "bar"
           }
          ],
          "barpolar": [
           {
            "marker": {
             "line": {
              "color": "#E5ECF6",
              "width": 0.5
             },
             "pattern": {
              "fillmode": "overlay",
              "size": 10,
              "solidity": 0.2
             }
            },
            "type": "barpolar"
           }
          ],
          "carpet": [
           {
            "aaxis": {
             "endlinecolor": "#2a3f5f",
             "gridcolor": "white",
             "linecolor": "white",
             "minorgridcolor": "white",
             "startlinecolor": "#2a3f5f"
            },
            "baxis": {
             "endlinecolor": "#2a3f5f",
             "gridcolor": "white",
             "linecolor": "white",
             "minorgridcolor": "white",
             "startlinecolor": "#2a3f5f"
            },
            "type": "carpet"
           }
          ],
          "choropleth": [
           {
            "colorbar": {
             "outlinewidth": 0,
             "ticks": ""
            },
            "type": "choropleth"
           }
          ],
          "contour": [
           {
            "colorbar": {
             "outlinewidth": 0,
             "ticks": ""
            },
            "colorscale": [
             [
              0,
              "#0d0887"
             ],
             [
              0.1111111111111111,
              "#46039f"
             ],
             [
              0.2222222222222222,
              "#7201a8"
             ],
             [
              0.3333333333333333,
              "#9c179e"
             ],
             [
              0.4444444444444444,
              "#bd3786"
             ],
             [
              0.5555555555555556,
              "#d8576b"
             ],
             [
              0.6666666666666666,
              "#ed7953"
             ],
             [
              0.7777777777777778,
              "#fb9f3a"
             ],
             [
              0.8888888888888888,
              "#fdca26"
             ],
             [
              1,
              "#f0f921"
             ]
            ],
            "type": "contour"
           }
          ],
          "contourcarpet": [
           {
            "colorbar": {
             "outlinewidth": 0,
             "ticks": ""
            },
            "type": "contourcarpet"
           }
          ],
          "heatmap": [
           {
            "colorbar": {
             "outlinewidth": 0,
             "ticks": ""
            },
            "colorscale": [
             [
              0,
              "#0d0887"
             ],
             [
              0.1111111111111111,
              "#46039f"
             ],
             [
              0.2222222222222222,
              "#7201a8"
             ],
             [
              0.3333333333333333,
              "#9c179e"
             ],
             [
              0.4444444444444444,
              "#bd3786"
             ],
             [
              0.5555555555555556,
              "#d8576b"
             ],
             [
              0.6666666666666666,
              "#ed7953"
             ],
             [
              0.7777777777777778,
              "#fb9f3a"
             ],
             [
              0.8888888888888888,
              "#fdca26"
             ],
             [
              1,
              "#f0f921"
             ]
            ],
            "type": "heatmap"
           }
          ],
          "heatmapgl": [
           {
            "colorbar": {
             "outlinewidth": 0,
             "ticks": ""
            },
            "colorscale": [
             [
              0,
              "#0d0887"
             ],
             [
              0.1111111111111111,
              "#46039f"
             ],
             [
              0.2222222222222222,
              "#7201a8"
             ],
             [
              0.3333333333333333,
              "#9c179e"
             ],
             [
              0.4444444444444444,
              "#bd3786"
             ],
             [
              0.5555555555555556,
              "#d8576b"
             ],
             [
              0.6666666666666666,
              "#ed7953"
             ],
             [
              0.7777777777777778,
              "#fb9f3a"
             ],
             [
              0.8888888888888888,
              "#fdca26"
             ],
             [
              1,
              "#f0f921"
             ]
            ],
            "type": "heatmapgl"
           }
          ],
          "histogram": [
           {
            "marker": {
             "pattern": {
              "fillmode": "overlay",
              "size": 10,
              "solidity": 0.2
             }
            },
            "type": "histogram"
           }
          ],
          "histogram2d": [
           {
            "colorbar": {
             "outlinewidth": 0,
             "ticks": ""
            },
            "colorscale": [
             [
              0,
              "#0d0887"
             ],
             [
              0.1111111111111111,
              "#46039f"
             ],
             [
              0.2222222222222222,
              "#7201a8"
             ],
             [
              0.3333333333333333,
              "#9c179e"
             ],
             [
              0.4444444444444444,
              "#bd3786"
             ],
             [
              0.5555555555555556,
              "#d8576b"
             ],
             [
              0.6666666666666666,
              "#ed7953"
             ],
             [
              0.7777777777777778,
              "#fb9f3a"
             ],
             [
              0.8888888888888888,
              "#fdca26"
             ],
             [
              1,
              "#f0f921"
             ]
            ],
            "type": "histogram2d"
           }
          ],
          "histogram2dcontour": [
           {
            "colorbar": {
             "outlinewidth": 0,
             "ticks": ""
            },
            "colorscale": [
             [
              0,
              "#0d0887"
             ],
             [
              0.1111111111111111,
              "#46039f"
             ],
             [
              0.2222222222222222,
              "#7201a8"
             ],
             [
              0.3333333333333333,
              "#9c179e"
             ],
             [
              0.4444444444444444,
              "#bd3786"
             ],
             [
              0.5555555555555556,
              "#d8576b"
             ],
             [
              0.6666666666666666,
              "#ed7953"
             ],
             [
              0.7777777777777778,
              "#fb9f3a"
             ],
             [
              0.8888888888888888,
              "#fdca26"
             ],
             [
              1,
              "#f0f921"
             ]
            ],
            "type": "histogram2dcontour"
           }
          ],
          "mesh3d": [
           {
            "colorbar": {
             "outlinewidth": 0,
             "ticks": ""
            },
            "type": "mesh3d"
           }
          ],
          "parcoords": [
           {
            "line": {
             "colorbar": {
              "outlinewidth": 0,
              "ticks": ""
             }
            },
            "type": "parcoords"
           }
          ],
          "pie": [
           {
            "automargin": true,
            "type": "pie"
           }
          ],
          "scatter": [
           {
            "marker": {
             "colorbar": {
              "outlinewidth": 0,
              "ticks": ""
             }
            },
            "type": "scatter"
           }
          ],
          "scatter3d": [
           {
            "line": {
             "colorbar": {
              "outlinewidth": 0,
              "ticks": ""
             }
            },
            "marker": {
             "colorbar": {
              "outlinewidth": 0,
              "ticks": ""
             }
            },
            "type": "scatter3d"
           }
          ],
          "scattercarpet": [
           {
            "marker": {
             "colorbar": {
              "outlinewidth": 0,
              "ticks": ""
             }
            },
            "type": "scattercarpet"
           }
          ],
          "scattergeo": [
           {
            "marker": {
             "colorbar": {
              "outlinewidth": 0,
              "ticks": ""
             }
            },
            "type": "scattergeo"
           }
          ],
          "scattergl": [
           {
            "marker": {
             "colorbar": {
              "outlinewidth": 0,
              "ticks": ""
             }
            },
            "type": "scattergl"
           }
          ],
          "scattermapbox": [
           {
            "marker": {
             "colorbar": {
              "outlinewidth": 0,
              "ticks": ""
             }
            },
            "type": "scattermapbox"
           }
          ],
          "scatterpolar": [
           {
            "marker": {
             "colorbar": {
              "outlinewidth": 0,
              "ticks": ""
             }
            },
            "type": "scatterpolar"
           }
          ],
          "scatterpolargl": [
           {
            "marker": {
             "colorbar": {
              "outlinewidth": 0,
              "ticks": ""
             }
            },
            "type": "scatterpolargl"
           }
          ],
          "scatterternary": [
           {
            "marker": {
             "colorbar": {
              "outlinewidth": 0,
              "ticks": ""
             }
            },
            "type": "scatterternary"
           }
          ],
          "surface": [
           {
            "colorbar": {
             "outlinewidth": 0,
             "ticks": ""
            },
            "colorscale": [
             [
              0,
              "#0d0887"
             ],
             [
              0.1111111111111111,
              "#46039f"
             ],
             [
              0.2222222222222222,
              "#7201a8"
             ],
             [
              0.3333333333333333,
              "#9c179e"
             ],
             [
              0.4444444444444444,
              "#bd3786"
             ],
             [
              0.5555555555555556,
              "#d8576b"
             ],
             [
              0.6666666666666666,
              "#ed7953"
             ],
             [
              0.7777777777777778,
              "#fb9f3a"
             ],
             [
              0.8888888888888888,
              "#fdca26"
             ],
             [
              1,
              "#f0f921"
             ]
            ],
            "type": "surface"
           }
          ],
          "table": [
           {
            "cells": {
             "fill": {
              "color": "#EBF0F8"
             },
             "line": {
              "color": "white"
             }
            },
            "header": {
             "fill": {
              "color": "#C8D4E3"
             },
             "line": {
              "color": "white"
             }
            },
            "type": "table"
           }
          ]
         },
         "layout": {
          "annotationdefaults": {
           "arrowcolor": "#2a3f5f",
           "arrowhead": 0,
           "arrowwidth": 1
          },
          "autotypenumbers": "strict",
          "coloraxis": {
           "colorbar": {
            "outlinewidth": 0,
            "ticks": ""
           }
          },
          "colorscale": {
           "diverging": [
            [
             0,
             "#8e0152"
            ],
            [
             0.1,
             "#c51b7d"
            ],
            [
             0.2,
             "#de77ae"
            ],
            [
             0.3,
             "#f1b6da"
            ],
            [
             0.4,
             "#fde0ef"
            ],
            [
             0.5,
             "#f7f7f7"
            ],
            [
             0.6,
             "#e6f5d0"
            ],
            [
             0.7,
             "#b8e186"
            ],
            [
             0.8,
             "#7fbc41"
            ],
            [
             0.9,
             "#4d9221"
            ],
            [
             1,
             "#276419"
            ]
           ],
           "sequential": [
            [
             0,
             "#0d0887"
            ],
            [
             0.1111111111111111,
             "#46039f"
            ],
            [
             0.2222222222222222,
             "#7201a8"
            ],
            [
             0.3333333333333333,
             "#9c179e"
            ],
            [
             0.4444444444444444,
             "#bd3786"
            ],
            [
             0.5555555555555556,
             "#d8576b"
            ],
            [
             0.6666666666666666,
             "#ed7953"
            ],
            [
             0.7777777777777778,
             "#fb9f3a"
            ],
            [
             0.8888888888888888,
             "#fdca26"
            ],
            [
             1,
             "#f0f921"
            ]
           ],
           "sequentialminus": [
            [
             0,
             "#0d0887"
            ],
            [
             0.1111111111111111,
             "#46039f"
            ],
            [
             0.2222222222222222,
             "#7201a8"
            ],
            [
             0.3333333333333333,
             "#9c179e"
            ],
            [
             0.4444444444444444,
             "#bd3786"
            ],
            [
             0.5555555555555556,
             "#d8576b"
            ],
            [
             0.6666666666666666,
             "#ed7953"
            ],
            [
             0.7777777777777778,
             "#fb9f3a"
            ],
            [
             0.8888888888888888,
             "#fdca26"
            ],
            [
             1,
             "#f0f921"
            ]
           ]
          },
          "colorway": [
           "#636efa",
           "#EF553B",
           "#00cc96",
           "#ab63fa",
           "#FFA15A",
           "#19d3f3",
           "#FF6692",
           "#B6E880",
           "#FF97FF",
           "#FECB52"
          ],
          "font": {
           "color": "#2a3f5f"
          },
          "geo": {
           "bgcolor": "white",
           "lakecolor": "white",
           "landcolor": "#E5ECF6",
           "showlakes": true,
           "showland": true,
           "subunitcolor": "white"
          },
          "hoverlabel": {
           "align": "left"
          },
          "hovermode": "closest",
          "mapbox": {
           "style": "light"
          },
          "paper_bgcolor": "white",
          "plot_bgcolor": "#E5ECF6",
          "polar": {
           "angularaxis": {
            "gridcolor": "white",
            "linecolor": "white",
            "ticks": ""
           },
           "bgcolor": "#E5ECF6",
           "radialaxis": {
            "gridcolor": "white",
            "linecolor": "white",
            "ticks": ""
           }
          },
          "scene": {
           "xaxis": {
            "backgroundcolor": "#E5ECF6",
            "gridcolor": "white",
            "gridwidth": 2,
            "linecolor": "white",
            "showbackground": true,
            "ticks": "",
            "zerolinecolor": "white"
           },
           "yaxis": {
            "backgroundcolor": "#E5ECF6",
            "gridcolor": "white",
            "gridwidth": 2,
            "linecolor": "white",
            "showbackground": true,
            "ticks": "",
            "zerolinecolor": "white"
           },
           "zaxis": {
            "backgroundcolor": "#E5ECF6",
            "gridcolor": "white",
            "gridwidth": 2,
            "linecolor": "white",
            "showbackground": true,
            "ticks": "",
            "zerolinecolor": "white"
           }
          },
          "shapedefaults": {
           "line": {
            "color": "#2a3f5f"
           }
          },
          "ternary": {
           "aaxis": {
            "gridcolor": "white",
            "linecolor": "white",
            "ticks": ""
           },
           "baxis": {
            "gridcolor": "white",
            "linecolor": "white",
            "ticks": ""
           },
           "bgcolor": "#E5ECF6",
           "caxis": {
            "gridcolor": "white",
            "linecolor": "white",
            "ticks": ""
           }
          },
          "title": {
           "x": 0.05
          },
          "xaxis": {
           "automargin": true,
           "gridcolor": "white",
           "linecolor": "white",
           "ticks": "",
           "title": {
            "standoff": 15
           },
           "zerolinecolor": "white",
           "zerolinewidth": 2
          },
          "yaxis": {
           "automargin": true,
           "gridcolor": "white",
           "linecolor": "white",
           "ticks": "",
           "title": {
            "standoff": 15
           },
           "zerolinecolor": "white",
           "zerolinewidth": 2
          }
         }
        }
       }
      }
     },
     "metadata": {},
     "output_type": "display_data"
    }
   ],
   "source": [
    "import pandas as pd \n",
    "import plotly.express as px\n",
    "\n",
    "\n",
    "fig = px.choropleth(att_ques,\n",
    "                    locations='StateAbbr', \n",
    "                    locationmode=\"USA-states\", \n",
    "                    color='take_attorney_number',\n",
    "                    #color_continuous_scale=\"Viridis_r\", \n",
    "                    scope=\"usa\")\n",
    "                    #animation_frame='period_begin') #make sure 'period_begin' is string type and sorted in ascending order\n",
    "\n",
    "fig.show()"
   ]
  },
  {
   "cell_type": "code",
   "execution_count": null,
   "id": "b1369d0c",
   "metadata": {},
   "outputs": [],
   "source": []
  }
 ],
 "metadata": {
  "kernelspec": {
   "display_name": "base",
   "language": "python",
   "name": "python3"
  },
  "language_info": {
   "codemirror_mode": {
    "name": "ipython",
    "version": 3
   },
   "file_extension": ".py",
   "mimetype": "text/x-python",
   "name": "python",
   "nbconvert_exporter": "python",
   "pygments_lexer": "ipython3",
   "version": "3.9.7"
  },
  "vscode": {
   "interpreter": {
    "hash": "6f2837220a7b70779b112689dfec46a2dc15420e34c77ffdf9a71af9696ab70d"
   }
  }
 },
 "nbformat": 4,
 "nbformat_minor": 5
}
